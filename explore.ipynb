{
 "cells": [
  {
   "cell_type": "markdown",
   "id": "21260ebb",
   "metadata": {},
   "source": [
    "# Exploratory Data Analysis\n",
    "---\n",
    "\n",
    "> ## Initial Questions\n",
    "> 1. Does a home's location affect how much it costs?\n",
    "> 2. Is there a relationship between number of bedrooms and number of bathrooms?\n",
    "> 3. Do bigger homes have more bathrooms?\n",
    "> 4. What drives tax_value? (Which features are most strongly correlated with tax value?)\n",
    "\n",
    "---\n",
    "\n",
    "Going into exploration, I intend to focus on examining relationships between location, number of bedrooms, number of bathrooms, home size, and tax value. The features I will use going forward include:\n",
    "- `fips`\n",
    "- `beds`\n",
    "- `baths`\n",
    "- `sq_ft`\n",
    "- `tax_value` (target variable)"
   ]
  },
  {
   "cell_type": "code",
   "execution_count": 1,
   "id": "894c22e7",
   "metadata": {},
   "outputs": [
    {
     "data": {
      "text/html": [
       "<div>\n",
       "<style scoped>\n",
       "    .dataframe tbody tr th:only-of-type {\n",
       "        vertical-align: middle;\n",
       "    }\n",
       "\n",
       "    .dataframe tbody tr th {\n",
       "        vertical-align: top;\n",
       "    }\n",
       "\n",
       "    .dataframe thead th {\n",
       "        text-align: right;\n",
       "    }\n",
       "</style>\n",
       "<table border=\"1\" class=\"dataframe\">\n",
       "  <thead>\n",
       "    <tr style=\"text-align: right;\">\n",
       "      <th></th>\n",
       "      <th>beds</th>\n",
       "      <th>baths</th>\n",
       "      <th>sq_ft</th>\n",
       "      <th>tax_value</th>\n",
       "      <th>fips</th>\n",
       "      <th>fips_loc</th>\n",
       "      <th>beds_scaled</th>\n",
       "      <th>baths_scaled</th>\n",
       "      <th>sq_ft_scaled</th>\n",
       "    </tr>\n",
       "  </thead>\n",
       "  <tbody>\n",
       "    <tr>\n",
       "      <th>17227</th>\n",
       "      <td>2.0</td>\n",
       "      <td>1.0</td>\n",
       "      <td>877.0</td>\n",
       "      <td>148732.0</td>\n",
       "      <td>6037</td>\n",
       "      <td>Los Angeles, CA</td>\n",
       "      <td>-1.536937</td>\n",
       "      <td>-1.517808</td>\n",
       "      <td>-1.348418</td>\n",
       "    </tr>\n",
       "    <tr>\n",
       "      <th>36170</th>\n",
       "      <td>3.0</td>\n",
       "      <td>2.0</td>\n",
       "      <td>1386.0</td>\n",
       "      <td>319465.0</td>\n",
       "      <td>6059</td>\n",
       "      <td>Orange, CA</td>\n",
       "      <td>-0.268813</td>\n",
       "      <td>-0.139870</td>\n",
       "      <td>-0.518473</td>\n",
       "    </tr>\n",
       "    <tr>\n",
       "      <th>16538</th>\n",
       "      <td>4.0</td>\n",
       "      <td>2.5</td>\n",
       "      <td>2064.0</td>\n",
       "      <td>810703.0</td>\n",
       "      <td>6059</td>\n",
       "      <td>Orange, CA</td>\n",
       "      <td>0.999311</td>\n",
       "      <td>0.549099</td>\n",
       "      <td>0.587033</td>\n",
       "    </tr>\n",
       "    <tr>\n",
       "      <th>29765</th>\n",
       "      <td>3.0</td>\n",
       "      <td>2.0</td>\n",
       "      <td>1323.0</td>\n",
       "      <td>393000.0</td>\n",
       "      <td>6037</td>\n",
       "      <td>Los Angeles, CA</td>\n",
       "      <td>-0.268813</td>\n",
       "      <td>-0.139870</td>\n",
       "      <td>-0.621197</td>\n",
       "    </tr>\n",
       "    <tr>\n",
       "      <th>22836</th>\n",
       "      <td>4.0</td>\n",
       "      <td>3.0</td>\n",
       "      <td>2605.0</td>\n",
       "      <td>202872.0</td>\n",
       "      <td>6037</td>\n",
       "      <td>Los Angeles, CA</td>\n",
       "      <td>0.999311</td>\n",
       "      <td>1.238067</td>\n",
       "      <td>1.469155</td>\n",
       "    </tr>\n",
       "  </tbody>\n",
       "</table>\n",
       "</div>"
      ],
      "text/plain": [
       "       beds  baths   sq_ft  tax_value  fips         fips_loc  beds_scaled  \\\n",
       "17227   2.0    1.0   877.0   148732.0  6037  Los Angeles, CA    -1.536937   \n",
       "36170   3.0    2.0  1386.0   319465.0  6059       Orange, CA    -0.268813   \n",
       "16538   4.0    2.5  2064.0   810703.0  6059       Orange, CA     0.999311   \n",
       "29765   3.0    2.0  1323.0   393000.0  6037  Los Angeles, CA    -0.268813   \n",
       "22836   4.0    3.0  2605.0   202872.0  6037  Los Angeles, CA     0.999311   \n",
       "\n",
       "       baths_scaled  sq_ft_scaled  \n",
       "17227     -1.517808     -1.348418  \n",
       "36170     -0.139870     -0.518473  \n",
       "16538      0.549099      0.587033  \n",
       "29765     -0.139870     -0.621197  \n",
       "22836      1.238067      1.469155  "
      ]
     },
     "execution_count": 1,
     "metadata": {},
     "output_type": "execute_result"
    }
   ],
   "source": [
    "# import modules\n",
    "import pandas as pd\n",
    "import seaborn as sns\n",
    "from matplotlib import pyplot as plt\n",
    "import itertools\n",
    "import wrangle\n",
    "import scipy.stats as stats\n",
    "import numpy as np\n",
    "# turn off pink warnings\n",
    "import warnings\n",
    "warnings.filterwarnings('ignore')\n",
    "\n",
    "# list columns for outlier removal\n",
    "out_cols = ['beds', 'baths', 'sq_ft', 'tax_value']\n",
    "# list columns for scaling\n",
    "scaled_cols = ['beds', 'baths', 'sq_ft']\n",
    "# wrangle data\n",
    "train, validate, test = wrangle.wrangle_zillow(out_cols, 1.5, scaled_cols)\n",
    "# preview train data\n",
    "train.head()"
   ]
  },
  {
   "cell_type": "code",
   "execution_count": 2,
   "id": "2c623bc9",
   "metadata": {},
   "outputs": [],
   "source": [
    "# convert fips to int\n",
    "train['fips'] = train.fips.astype(int)"
   ]
  },
  {
   "cell_type": "code",
   "execution_count": 3,
   "id": "7bdcbba4",
   "metadata": {},
   "outputs": [
    {
     "data": {
      "text/html": [
       "<div>\n",
       "<style scoped>\n",
       "    .dataframe tbody tr th:only-of-type {\n",
       "        vertical-align: middle;\n",
       "    }\n",
       "\n",
       "    .dataframe tbody tr th {\n",
       "        vertical-align: top;\n",
       "    }\n",
       "\n",
       "    .dataframe thead th {\n",
       "        text-align: right;\n",
       "    }\n",
       "</style>\n",
       "<table border=\"1\" class=\"dataframe\">\n",
       "  <thead>\n",
       "    <tr style=\"text-align: right;\">\n",
       "      <th></th>\n",
       "      <th>beds</th>\n",
       "      <th>baths</th>\n",
       "      <th>sq_ft</th>\n",
       "      <th>tax_value</th>\n",
       "      <th>fips</th>\n",
       "      <th>beds_scaled</th>\n",
       "      <th>baths_scaled</th>\n",
       "      <th>sq_ft_scaled</th>\n",
       "    </tr>\n",
       "  </thead>\n",
       "  <tbody>\n",
       "    <tr>\n",
       "      <th>count</th>\n",
       "      <td>25550</td>\n",
       "      <td>25550</td>\n",
       "      <td>25550</td>\n",
       "      <td>25550</td>\n",
       "      <td>25550</td>\n",
       "      <td>25550</td>\n",
       "      <td>25550</td>\n",
       "      <td>25550</td>\n",
       "    </tr>\n",
       "    <tr>\n",
       "      <th>mean</th>\n",
       "      <td>3.21198</td>\n",
       "      <td>2.10151</td>\n",
       "      <td>1703.98</td>\n",
       "      <td>374001</td>\n",
       "      <td>6049.02</td>\n",
       "      <td>-2.54408e-16</td>\n",
       "      <td>-1.99015e-17</td>\n",
       "      <td>-9.98027e-17</td>\n",
       "    </tr>\n",
       "    <tr>\n",
       "      <th>std</th>\n",
       "      <td>0.788582</td>\n",
       "      <td>0.725737</td>\n",
       "      <td>613.306</td>\n",
       "      <td>244974</td>\n",
       "      <td>21.0304</td>\n",
       "      <td>1.00002</td>\n",
       "      <td>1.00002</td>\n",
       "      <td>1.00002</td>\n",
       "    </tr>\n",
       "    <tr>\n",
       "      <th>min</th>\n",
       "      <td>2</td>\n",
       "      <td>1</td>\n",
       "      <td>152</td>\n",
       "      <td>1000</td>\n",
       "      <td>6037</td>\n",
       "      <td>-1.53694</td>\n",
       "      <td>-1.51781</td>\n",
       "      <td>-2.53056</td>\n",
       "    </tr>\n",
       "    <tr>\n",
       "      <th>25%</th>\n",
       "      <td>3</td>\n",
       "      <td>2</td>\n",
       "      <td>1242</td>\n",
       "      <td>175041</td>\n",
       "      <td>6037</td>\n",
       "      <td>-0.268813</td>\n",
       "      <td>-0.13987</td>\n",
       "      <td>-0.753271</td>\n",
       "    </tr>\n",
       "    <tr>\n",
       "      <th>50%</th>\n",
       "      <td>3</td>\n",
       "      <td>2</td>\n",
       "      <td>1570</td>\n",
       "      <td>337562</td>\n",
       "      <td>6037</td>\n",
       "      <td>-0.268813</td>\n",
       "      <td>-0.13987</td>\n",
       "      <td>-0.218454</td>\n",
       "    </tr>\n",
       "    <tr>\n",
       "      <th>75%</th>\n",
       "      <td>4</td>\n",
       "      <td>2.5</td>\n",
       "      <td>2067</td>\n",
       "      <td>523295</td>\n",
       "      <td>6059</td>\n",
       "      <td>0.999311</td>\n",
       "      <td>0.549099</td>\n",
       "      <td>0.591924</td>\n",
       "    </tr>\n",
       "    <tr>\n",
       "      <th>max</th>\n",
       "      <td>5</td>\n",
       "      <td>4</td>\n",
       "      <td>3568</td>\n",
       "      <td>1.12355e+06</td>\n",
       "      <td>6111</td>\n",
       "      <td>2.26744</td>\n",
       "      <td>2.616</td>\n",
       "      <td>3.03937</td>\n",
       "    </tr>\n",
       "  </tbody>\n",
       "</table>\n",
       "</div>"
      ],
      "text/plain": [
       "           beds     baths    sq_ft    tax_value     fips   beds_scaled  \\\n",
       "count     25550     25550    25550        25550    25550         25550   \n",
       "mean    3.21198   2.10151  1703.98       374001  6049.02  -2.54408e-16   \n",
       "std    0.788582  0.725737  613.306       244974  21.0304       1.00002   \n",
       "min           2         1      152         1000     6037      -1.53694   \n",
       "25%           3         2     1242       175041     6037     -0.268813   \n",
       "50%           3         2     1570       337562     6037     -0.268813   \n",
       "75%           4       2.5     2067       523295     6059      0.999311   \n",
       "max           5         4     3568  1.12355e+06     6111       2.26744   \n",
       "\n",
       "       baths_scaled  sq_ft_scaled  \n",
       "count         25550         25550  \n",
       "mean   -1.99015e-17  -9.98027e-17  \n",
       "std         1.00002       1.00002  \n",
       "min        -1.51781      -2.53056  \n",
       "25%        -0.13987     -0.753271  \n",
       "50%        -0.13987     -0.218454  \n",
       "75%        0.549099      0.591924  \n",
       "max           2.616       3.03937  "
      ]
     },
     "execution_count": 3,
     "metadata": {},
     "output_type": "execute_result"
    }
   ],
   "source": [
    "# define function for less cluttered .describe()\n",
    "def clearly_describe(df):\n",
    "    return df.describe().apply(lambda s: s.apply(lambda x: format(x, 'g')))\n",
    "# run function on train to view univariate summary stats\n",
    "clearly_describe(train)"
   ]
  },
  {
   "cell_type": "code",
   "execution_count": 4,
   "id": "6b03c244",
   "metadata": {},
   "outputs": [
    {
     "data": {
      "image/png": "[encoded data removed]",
      "text/plain": [
       "<Figure size 432x288 with 6 Axes>"
      ]
     },
     "metadata": {
      "needs_background": "light"
     },
     "output_type": "display_data"
    }
   ],
   "source": [
    "# list unscaled columns for visualization\n",
    "unscaled_cols = ['beds', 'baths', 'sq_ft', 'tax_value', 'fips']\n",
    "# visualize distributions of individual features\n",
    "train[unscaled_cols].hist()\n",
    "plt.tight_layout()"
   ]
  },
  {
   "cell_type": "markdown",
   "id": "4bb7d692",
   "metadata": {},
   "source": [
    "- `beds`, `sq_ft`, and `tax_value` have mostly normal distributions.\n",
    "- There is some semblance of normality for `baths` but not really."
   ]
  },
  {
   "cell_type": "code",
   "execution_count": 5,
   "id": "826c75b4",
   "metadata": {},
   "outputs": [
    {
     "data": {
      "text/plain": [
       "6037    16649\n",
       "6059     6761\n",
       "6111     2140\n",
       "Name: fips, dtype: int64"
      ]
     },
     "execution_count": 5,
     "metadata": {},
     "output_type": "execute_result"
    }
   ],
   "source": [
    "# view value counts for fips\n",
    "train.fips.value_counts()"
   ]
  },
  {
   "cell_type": "code",
   "execution_count": 6,
   "id": "8e76b193",
   "metadata": {},
   "outputs": [
    {
     "data": {
      "text/plain": [
       "<AxesSubplot:xlabel='fips', ylabel='count'>"
      ]
     },
     "execution_count": 6,
     "metadata": {},
     "output_type": "execute_result"
    },
    {
     "data": {
      "image/png": "[encoded data removed]",
      "text/plain": [
       "<Figure size 432x288 with 1 Axes>"
      ]
     },
     "metadata": {
      "needs_background": "light"
     },
     "output_type": "display_data"
    }
   ],
   "source": [
    "# view distribution for just fips\n",
    "sns.countplot(x='fips', data=train)"
   ]
  },
  {
   "cell_type": "markdown",
   "id": "c457fc9b",
   "metadata": {},
   "source": [
    "There are 3 FIPS codes in this dataset:\n",
    "- 6037\n",
    "- 6059\n",
    "- 6111\n",
    "\n",
    "Since the email I received mentioned wanting to know where the properties are located, I will take a moment to research the location codes above.\n",
    "\n",
    "...\n",
    "\n",
    "According to https://www.nrcs.usda.gov/wps/portal/nrcs/detail/national/home/?cid=nrcs143_013697, the codes represent the following locations:\n",
    "- 6037: Los Angeles, CA\n",
    "- 6059: Orange, CA\n",
    "- 6111: Ventura, CA\n",
    "\n",
    "With this information, I can go back and add a column to show where each property is located. For now, I will continue with my data exploration and attempt to answer my initial questions."
   ]
  },
  {
   "cell_type": "markdown",
   "id": "f5aa110b",
   "metadata": {},
   "source": [
    "### Question 1: Does a home's location affect how much it costs?"
   ]
  },
  {
   "cell_type": "code",
   "execution_count": 7,
   "id": "c750852e",
   "metadata": {},
   "outputs": [
    {
     "data": {
      "text/html": [
       "<div>\n",
       "<style scoped>\n",
       "    .dataframe tbody tr th:only-of-type {\n",
       "        vertical-align: middle;\n",
       "    }\n",
       "\n",
       "    .dataframe tbody tr th {\n",
       "        vertical-align: top;\n",
       "    }\n",
       "\n",
       "    .dataframe thead th {\n",
       "        text-align: right;\n",
       "    }\n",
       "</style>\n",
       "<table border=\"1\" class=\"dataframe\">\n",
       "  <thead>\n",
       "    <tr style=\"text-align: right;\">\n",
       "      <th></th>\n",
       "      <th>beds</th>\n",
       "      <th>baths</th>\n",
       "      <th>sq_ft</th>\n",
       "      <th>tax_value</th>\n",
       "      <th>fips</th>\n",
       "      <th>fips_loc</th>\n",
       "      <th>beds_scaled</th>\n",
       "      <th>baths_scaled</th>\n",
       "      <th>sq_ft_scaled</th>\n",
       "    </tr>\n",
       "  </thead>\n",
       "  <tbody>\n",
       "    <tr>\n",
       "      <th>17227</th>\n",
       "      <td>2.0</td>\n",
       "      <td>1.0</td>\n",
       "      <td>877.0</td>\n",
       "      <td>148732.0</td>\n",
       "      <td>6037</td>\n",
       "      <td>Los Angeles, CA</td>\n",
       "      <td>-1.536937</td>\n",
       "      <td>-1.517808</td>\n",
       "      <td>-1.348418</td>\n",
       "    </tr>\n",
       "    <tr>\n",
       "      <th>36170</th>\n",
       "      <td>3.0</td>\n",
       "      <td>2.0</td>\n",
       "      <td>1386.0</td>\n",
       "      <td>319465.0</td>\n",
       "      <td>6059</td>\n",
       "      <td>Orange, CA</td>\n",
       "      <td>-0.268813</td>\n",
       "      <td>-0.139870</td>\n",
       "      <td>-0.518473</td>\n",
       "    </tr>\n",
       "    <tr>\n",
       "      <th>16538</th>\n",
       "      <td>4.0</td>\n",
       "      <td>2.5</td>\n",
       "      <td>2064.0</td>\n",
       "      <td>810703.0</td>\n",
       "      <td>6059</td>\n",
       "      <td>Orange, CA</td>\n",
       "      <td>0.999311</td>\n",
       "      <td>0.549099</td>\n",
       "      <td>0.587033</td>\n",
       "    </tr>\n",
       "    <tr>\n",
       "      <th>29765</th>\n",
       "      <td>3.0</td>\n",
       "      <td>2.0</td>\n",
       "      <td>1323.0</td>\n",
       "      <td>393000.0</td>\n",
       "      <td>6037</td>\n",
       "      <td>Los Angeles, CA</td>\n",
       "      <td>-0.268813</td>\n",
       "      <td>-0.139870</td>\n",
       "      <td>-0.621197</td>\n",
       "    </tr>\n",
       "    <tr>\n",
       "      <th>22836</th>\n",
       "      <td>4.0</td>\n",
       "      <td>3.0</td>\n",
       "      <td>2605.0</td>\n",
       "      <td>202872.0</td>\n",
       "      <td>6037</td>\n",
       "      <td>Los Angeles, CA</td>\n",
       "      <td>0.999311</td>\n",
       "      <td>1.238067</td>\n",
       "      <td>1.469155</td>\n",
       "    </tr>\n",
       "  </tbody>\n",
       "</table>\n",
       "</div>"
      ],
      "text/plain": [
       "       beds  baths   sq_ft  tax_value  fips         fips_loc  beds_scaled  \\\n",
       "17227   2.0    1.0   877.0   148732.0  6037  Los Angeles, CA    -1.536937   \n",
       "36170   3.0    2.0  1386.0   319465.0  6059       Orange, CA    -0.268813   \n",
       "16538   4.0    2.5  2064.0   810703.0  6059       Orange, CA     0.999311   \n",
       "29765   3.0    2.0  1323.0   393000.0  6037  Los Angeles, CA    -0.268813   \n",
       "22836   4.0    3.0  2605.0   202872.0  6037  Los Angeles, CA     0.999311   \n",
       "\n",
       "       baths_scaled  sq_ft_scaled  \n",
       "17227     -1.517808     -1.348418  \n",
       "36170     -0.139870     -0.518473  \n",
       "16538      0.549099      0.587033  \n",
       "29765     -0.139870     -0.621197  \n",
       "22836      1.238067      1.469155  "
      ]
     },
     "execution_count": 7,
     "metadata": {},
     "output_type": "execute_result"
    }
   ],
   "source": [
    "# add column of location names\n",
    "train['fips_loc'] = train.fips.replace({6037:'Los Angeles, CA',\n",
    "                   6059:'Orange, CA',\n",
    "                   6111:'Ventura, CA'})\n",
    "train.head()"
   ]
  },
  {
   "cell_type": "code",
   "execution_count": 8,
   "id": "1afa981d",
   "metadata": {},
   "outputs": [],
   "source": [
    "def label_fips(zillow):\n",
    "    zillow['fips'] = zillow.fips.astype(int)\n",
    "    zillow['fips_loc'] = zillow.fips.replace({6037:'Los Angeles, CA',\n",
    "                       6059:'Orange, CA',\n",
    "                       6111:'Ventura, CA'})\n",
    "    return zillow"
   ]
  },
  {
   "cell_type": "code",
   "execution_count": 9,
   "id": "200a3d59",
   "metadata": {},
   "outputs": [
    {
     "data": {
      "image/png": "[encoded data removed]",
      "text/plain": [
       "<Figure size 432x288 with 2 Axes>"
      ]
     },
     "metadata": {
      "needs_background": "light"
     },
     "output_type": "display_data"
    }
   ],
   "source": [
    "# plot tax_value distributions by location\n",
    "plt.subplot(121)\n",
    "sns.barplot(data=train, x='fips_loc', y='tax_value')\n",
    "plt.axhline(y=train.tax_value.mean(), color='r')\n",
    "plt.axhline(y=train.tax_value.median(), color='b')\n",
    "plt.subplot(122)\n",
    "sns.boxplot(data=train, x='fips_loc', y='tax_value')\n",
    "plt.tight_layout()"
   ]
  },
  {
   "cell_type": "code",
   "execution_count": 10,
   "id": "656b3008",
   "metadata": {},
   "outputs": [
    {
     "data": {
      "image/png": "[encoded data removed]",
      "text/plain": [
       "<Figure size 864x432 with 3 Axes>"
      ]
     },
     "metadata": {
      "needs_background": "light"
     },
     "output_type": "display_data"
    }
   ],
   "source": [
    "# make function to plot cat/cont variables\n",
    "def plot_categorical_and_continuous_vars(df, cat_cols, cont_cols):\n",
    "    '''\n",
    "    This function takes in a dataframe and the names of categorical and continuous\n",
    "    columns. It returns a stripplot, boxplot, and barplot of the inputted features.\n",
    "    '''\n",
    "    for cat_col, cont_col in list(itertools.product(cat_cols, cont_cols)):\n",
    "        plt.figure(figsize=(12,6))\n",
    "        plt.subplot(1, 3, 1)\n",
    "        sns.stripplot(x=cat_col, y=cont_col, data=df)\n",
    "        plt.subplot(1, 3, 2)\n",
    "        sns.boxplot(x=cat_col, y=cont_col, data=df)\n",
    "        plt.axhline(y=train[cont_col].mean(), color='r', label='Mean')\n",
    "        plt.axhline(y=train[cont_col].median(), color='b', label='Median')\n",
    "        plt.legend()\n",
    "        plt.subplot(1, 3, 3)\n",
    "        sns.barplot(x=cat_col, y=cont_col, data=df)\n",
    "        plt.axhline(y=train[cont_col].mean(), color='r', label='Mean')\n",
    "        plt.axhline(y=train[cont_col].median(), color='b', label='Median')\n",
    "        plt.suptitle(f'{cat_col} and {cont_col}')\n",
    "        plt.legend()\n",
    "        plt.tight_layout()\n",
    "    return plt.show();\n",
    "# run function to view fips_loc/tax_value\n",
    "plot_categorical_and_continuous_vars(train, ['fips_loc'], ['tax_value'])"
   ]
  },
  {
   "cell_type": "code",
   "execution_count": 11,
   "id": "f3c9c608",
   "metadata": {},
   "outputs": [
    {
     "data": {
      "text/html": [
       "<div>\n",
       "<style scoped>\n",
       "    .dataframe tbody tr th:only-of-type {\n",
       "        vertical-align: middle;\n",
       "    }\n",
       "\n",
       "    .dataframe tbody tr th {\n",
       "        vertical-align: top;\n",
       "    }\n",
       "\n",
       "    .dataframe thead th {\n",
       "        text-align: right;\n",
       "    }\n",
       "</style>\n",
       "<table border=\"1\" class=\"dataframe\">\n",
       "  <thead>\n",
       "    <tr style=\"text-align: right;\">\n",
       "      <th></th>\n",
       "      <th>count</th>\n",
       "      <th>mean</th>\n",
       "      <th>min</th>\n",
       "      <th>median</th>\n",
       "      <th>max</th>\n",
       "    </tr>\n",
       "    <tr>\n",
       "      <th>fips_loc</th>\n",
       "      <th></th>\n",
       "      <th></th>\n",
       "      <th></th>\n",
       "      <th></th>\n",
       "      <th></th>\n",
       "    </tr>\n",
       "  </thead>\n",
       "  <tbody>\n",
       "    <tr>\n",
       "      <th>Los Angeles, CA</th>\n",
       "      <td>16649</td>\n",
       "      <td>339637</td>\n",
       "      <td>1000</td>\n",
       "      <td>290324</td>\n",
       "      <td>1.12355e+06</td>\n",
       "    </tr>\n",
       "    <tr>\n",
       "      <th>Orange, CA</th>\n",
       "      <td>6761</td>\n",
       "      <td>441422</td>\n",
       "      <td>13524</td>\n",
       "      <td>426503</td>\n",
       "      <td>1.12053e+06</td>\n",
       "    </tr>\n",
       "    <tr>\n",
       "      <th>Ventura, CA</th>\n",
       "      <td>2140</td>\n",
       "      <td>428344</td>\n",
       "      <td>15433</td>\n",
       "      <td>419958</td>\n",
       "      <td>1.12241e+06</td>\n",
       "    </tr>\n",
       "  </tbody>\n",
       "</table>\n",
       "</div>"
      ],
      "text/plain": [
       "                 count    mean    min  median          max\n",
       "fips_loc                                                  \n",
       "Los Angeles, CA  16649  339637   1000  290324  1.12355e+06\n",
       "Orange, CA        6761  441422  13524  426503  1.12053e+06\n",
       "Ventura, CA       2140  428344  15433  419958  1.12241e+06"
      ]
     },
     "execution_count": 11,
     "metadata": {},
     "output_type": "execute_result"
    }
   ],
   "source": [
    "# view select tax_value summary stats by location\n",
    "clearly_describe(train.groupby(by='fips_loc')).tax_value.rename(columns={'50%':'median'})[['count', 'mean', 'min', 'median', 'max']]"
   ]
  },
  {
   "cell_type": "markdown",
   "id": "ec922a5a",
   "metadata": {},
   "source": [
    "**Takeaways:**\n",
    "- Los Angeles, CA has the lowest mean and median tax values\n",
    "- Orange, CA has the highest mean and median tax values\n",
    "- Most homes are located in Los Angeles, CA\n",
    "- Fewest homes are located in Ventura, CA\n",
    "- The cheapest home is located in Los Angeles, CA\n",
    "- The most expensive home is also located in Los Angeles, CA\n",
    "\n",
    "There does seem to be some variance in tax_value depending on where the home is located. To be sure there is a relationship, I will perform a statistical test. Before choosing a test, I will see what my options are based on which assumptions the data meets."
   ]
  },
  {
   "cell_type": "code",
   "execution_count": 12,
   "id": "9521234d",
   "metadata": {},
   "outputs": [
    {
     "data": {
      "text/plain": [
       "fips_loc\n",
       "Los Angeles, CA    5.678131e+10\n",
       "Orange, CA         6.286669e+10\n",
       "Ventura, CA        4.968188e+10\n",
       "Name: tax_value, dtype: float64"
      ]
     },
     "execution_count": 12,
     "metadata": {},
     "output_type": "execute_result"
    }
   ],
   "source": [
    "# view variances of samples\n",
    "train.groupby(by='fips_loc').tax_value.var()"
   ]
  },
  {
   "cell_type": "code",
   "execution_count": 13,
   "id": "7d2c6de6",
   "metadata": {},
   "outputs": [
    {
     "data": {
      "text/plain": [
       "fips_loc\n",
       "Los Angeles, CA    AxesSubplot(0.125,0.125;0.775x0.755)\n",
       "Orange, CA         AxesSubplot(0.125,0.125;0.775x0.755)\n",
       "Ventura, CA        AxesSubplot(0.125,0.125;0.775x0.755)\n",
       "Name: tax_value, dtype: object"
      ]
     },
     "execution_count": 13,
     "metadata": {},
     "output_type": "execute_result"
    },
    {
     "data": {
      "image/png": "[encoded data removed]",
      "text/plain": [
       "<Figure size 432x288 with 1 Axes>"
      ]
     },
     "metadata": {
      "needs_background": "light"
     },
     "output_type": "display_data"
    }
   ],
   "source": [
    "# view distributions of samples\n",
    "train.groupby(by='fips_loc').tax_value.hist()"
   ]
  },
  {
   "cell_type": "markdown",
   "id": "e5c513ad",
   "metadata": {},
   "source": [
    "My samples are independent of one another.\n",
    "\n",
    "The distributions are normal enough for the large samples I have.\n",
    "\n",
    "The variances, however, vary greatly between samples so that rules out the ANOVA test. Instead, I will perform three independent 2-sample T-tests to compare each sample against the population not included in that sample."
   ]
  },
  {
   "cell_type": "code",
   "execution_count": 14,
   "id": "6bc501c3",
   "metadata": {},
   "outputs": [],
   "source": [
    "# separate each location's tax_value observations into individual series\n",
    "la_value = train[train.fips_loc == 'Los Angeles, CA'].tax_value\n",
    "or_value = train[train.fips_loc == 'Orange, CA'].tax_value\n",
    "ve_value = train[train.fips_loc == 'Ventura, CA'].tax_value"
   ]
  },
  {
   "cell_type": "markdown",
   "id": "322c8683",
   "metadata": {},
   "source": [
    "**Test 1: Is there a difference between homes in Los Angeles and homes not in Los Angeles?**\n",
    "\n",
    "$H_{0}$: There is no difference in tax value between homes in Los Angeles and homes not in Los Angeles.\n",
    "\n",
    "$H_{a}$: There is a significant difference in tax value between homes in Los Angeles and homes not in Los Angeles."
   ]
  },
  {
   "cell_type": "code",
   "execution_count": 15,
   "id": "e2bf3a42",
   "metadata": {},
   "outputs": [
    {
     "name": "stdout",
     "output_type": "stream",
     "text": [
      "Reject the null hypothesis\n"
     ]
    },
    {
     "data": {
      "text/plain": [
       "(-31.007191968235666, 1.2367728611954127e-205)"
      ]
     },
     "execution_count": 15,
     "metadata": {},
     "output_type": "execute_result"
    }
   ],
   "source": [
    "# set alpha\n",
    "alpha = 0.05\n",
    "# isolate tax values of properties not in los angeles\n",
    "non_la_value = train[train.fips_loc != 'Los Angeles, CA'].tax_value\n",
    "# run t-test\n",
    "t, p = stats.ttest_ind(la_value, non_la_value, equal_var=False)\n",
    "# print result\n",
    "if p < alpha:\n",
    "    print('Reject the null hypothesis')\n",
    "else:\n",
    "    print('Fail to reject the null hypothesis')\n",
    "# output t-statistic and p-value\n",
    "t, p"
   ]
  },
  {
   "cell_type": "markdown",
   "id": "80778682",
   "metadata": {},
   "source": [
    "**Test 2: Is there a difference between homes in Orange and homes not in Orange?**\n",
    "\n",
    "$H_{0}$: There is no difference in tax value between homes in Orange and homes not in Orange.\n",
    "\n",
    "$H_{a}$: There is a significant difference in tax value between homes in Orange and homes not in Orange."
   ]
  },
  {
   "cell_type": "code",
   "execution_count": 16,
   "id": "d806ff0c",
   "metadata": {},
   "outputs": [
    {
     "name": "stdout",
     "output_type": "stream",
     "text": [
      "Reject the null hypothesis\n"
     ]
    },
    {
     "data": {
      "text/plain": [
       "(26.12060430322319, 3.918154422883161e-146)"
      ]
     },
     "execution_count": 16,
     "metadata": {},
     "output_type": "execute_result"
    }
   ],
   "source": [
    "# is there a difference between orange and non-orange homes\n",
    "# null = There is no difference between homes in Orange and homes not in Orange.\n",
    "# alt = There is a difference between homes in Orange and homes not in Orange.\n",
    "# isolate tax values of properties not in orange\n",
    "non_or_value = train[train.fips_loc != 'Orange, CA'].tax_value\n",
    "# run t-test\n",
    "t, p = stats.ttest_ind(or_value, non_or_value, equal_var=False)\n",
    "# print result\n",
    "if p < alpha:\n",
    "    print('Reject the null hypothesis')\n",
    "else:\n",
    "    print('Fail to reject the null hypothesis')\n",
    "# output t-statistic and p-value\n",
    "t, p"
   ]
  },
  {
   "cell_type": "markdown",
   "id": "588dbf7c",
   "metadata": {},
   "source": [
    "**Test 3: Is there a difference between homes in Ventura and homes not in Ventura?**\n",
    "\n",
    "$H_{0}$: There is no difference in tax value between homes in Ventura and homes not in Ventura.\n",
    "\n",
    "$H_{a}$: There is a significant difference in tax value between homes in Ventura and homes not in Ventura."
   ]
  },
  {
   "cell_type": "code",
   "execution_count": 17,
   "id": "865b57f8",
   "metadata": {},
   "outputs": [
    {
     "name": "stdout",
     "output_type": "stream",
     "text": [
      "Reject the null hypothesis\n"
     ]
    },
    {
     "data": {
      "text/plain": [
       "(11.675010059966073, 9.610286804156213e-31)"
      ]
     },
     "execution_count": 17,
     "metadata": {},
     "output_type": "execute_result"
    }
   ],
   "source": [
    "# is there a difference between homes located in ventura and homes not located in ventura?\n",
    "# null = There is no difference between homes in Ventura and homes not in Ventura.\n",
    "# alt = There is a difference between homes in Ventura and homes not in Ventura.\n",
    "# isolate tax values of properties not in ventura\n",
    "non_ve_value = train[train.fips_loc != 'Ventura, CA'].tax_value\n",
    "# run t-test\n",
    "t, p = stats.ttest_ind(ve_value, non_ve_value, equal_var=False)\n",
    "# print result\n",
    "if p < alpha:\n",
    "    print('Reject the null hypothesis')\n",
    "else:\n",
    "    print('Fail to reject the null hypothesis')\n",
    "# output t-statistic and p-value\n",
    "t, p"
   ]
  },
  {
   "cell_type": "markdown",
   "id": "a2ec379a",
   "metadata": {},
   "source": [
    "In each of the three t-tests I ran, the results provided evidence to support the rejection of the null hypotheses that there is not a significant difference in tax value between homes in a county versus homes not in that county.\n",
    "\n",
    "That is to say, **there is a difference in tax assessed property value depending on where the home is located.**"
   ]
  },
  {
   "cell_type": "markdown",
   "id": "3cecd45a",
   "metadata": {},
   "source": [
    "### Question 2: Is there a relationship between number of bedrooms and number of bathrooms?"
   ]
  },
  {
   "cell_type": "code",
   "execution_count": 18,
   "id": "86c4ff79",
   "metadata": {},
   "outputs": [
    {
     "data": {
      "text/html": [
       "<div>\n",
       "<style scoped>\n",
       "    .dataframe tbody tr th:only-of-type {\n",
       "        vertical-align: middle;\n",
       "    }\n",
       "\n",
       "    .dataframe tbody tr th {\n",
       "        vertical-align: top;\n",
       "    }\n",
       "\n",
       "    .dataframe thead th {\n",
       "        text-align: right;\n",
       "    }\n",
       "</style>\n",
       "<table border=\"1\" class=\"dataframe\">\n",
       "  <thead>\n",
       "    <tr style=\"text-align: right;\">\n",
       "      <th>baths</th>\n",
       "      <th>1.0</th>\n",
       "      <th>1.5</th>\n",
       "      <th>2.0</th>\n",
       "      <th>2.5</th>\n",
       "      <th>3.0</th>\n",
       "      <th>3.5</th>\n",
       "      <th>4.0</th>\n",
       "    </tr>\n",
       "    <tr>\n",
       "      <th>baths</th>\n",
       "      <th></th>\n",
       "      <th></th>\n",
       "      <th></th>\n",
       "      <th></th>\n",
       "      <th></th>\n",
       "      <th></th>\n",
       "      <th></th>\n",
       "    </tr>\n",
       "  </thead>\n",
       "  <tbody>\n",
       "    <tr>\n",
       "      <th>1.0</th>\n",
       "      <td>1.000000</td>\n",
       "      <td>0.678814</td>\n",
       "      <td>0.340928</td>\n",
       "      <td>-0.061781</td>\n",
       "      <td>-0.526575</td>\n",
       "      <td>-0.723408</td>\n",
       "      <td>-0.913997</td>\n",
       "    </tr>\n",
       "    <tr>\n",
       "      <th>1.5</th>\n",
       "      <td>0.678814</td>\n",
       "      <td>1.000000</td>\n",
       "      <td>0.902660</td>\n",
       "      <td>0.599194</td>\n",
       "      <td>0.041896</td>\n",
       "      <td>-0.300456</td>\n",
       "      <td>-0.473486</td>\n",
       "    </tr>\n",
       "    <tr>\n",
       "      <th>2.0</th>\n",
       "      <td>0.340928</td>\n",
       "      <td>0.902660</td>\n",
       "      <td>1.000000</td>\n",
       "      <td>0.883204</td>\n",
       "      <td>0.461034</td>\n",
       "      <td>0.131083</td>\n",
       "      <td>-0.051204</td>\n",
       "    </tr>\n",
       "    <tr>\n",
       "      <th>2.5</th>\n",
       "      <td>-0.061781</td>\n",
       "      <td>0.599194</td>\n",
       "      <td>0.883204</td>\n",
       "      <td>1.000000</td>\n",
       "      <td>0.823352</td>\n",
       "      <td>0.580715</td>\n",
       "      <td>0.401870</td>\n",
       "    </tr>\n",
       "    <tr>\n",
       "      <th>3.0</th>\n",
       "      <td>-0.526575</td>\n",
       "      <td>0.041896</td>\n",
       "      <td>0.461034</td>\n",
       "      <td>0.823352</td>\n",
       "      <td>1.000000</td>\n",
       "      <td>0.940132</td>\n",
       "      <td>0.820735</td>\n",
       "    </tr>\n",
       "    <tr>\n",
       "      <th>3.5</th>\n",
       "      <td>-0.723408</td>\n",
       "      <td>-0.300456</td>\n",
       "      <td>0.131083</td>\n",
       "      <td>0.580715</td>\n",
       "      <td>0.940132</td>\n",
       "      <td>1.000000</td>\n",
       "      <td>0.938934</td>\n",
       "    </tr>\n",
       "    <tr>\n",
       "      <th>4.0</th>\n",
       "      <td>-0.913997</td>\n",
       "      <td>-0.473486</td>\n",
       "      <td>-0.051204</td>\n",
       "      <td>0.401870</td>\n",
       "      <td>0.820735</td>\n",
       "      <td>0.938934</td>\n",
       "      <td>1.000000</td>\n",
       "    </tr>\n",
       "  </tbody>\n",
       "</table>\n",
       "</div>"
      ],
      "text/plain": [
       "baths       1.0       1.5       2.0       2.5       3.0       3.5       4.0\n",
       "baths                                                                      \n",
       "1.0    1.000000  0.678814  0.340928 -0.061781 -0.526575 -0.723408 -0.913997\n",
       "1.5    0.678814  1.000000  0.902660  0.599194  0.041896 -0.300456 -0.473486\n",
       "2.0    0.340928  0.902660  1.000000  0.883204  0.461034  0.131083 -0.051204\n",
       "2.5   -0.061781  0.599194  0.883204  1.000000  0.823352  0.580715  0.401870\n",
       "3.0   -0.526575  0.041896  0.461034  0.823352  1.000000  0.940132  0.820735\n",
       "3.5   -0.723408 -0.300456  0.131083  0.580715  0.940132  1.000000  0.938934\n",
       "4.0   -0.913997 -0.473486 -0.051204  0.401870  0.820735  0.938934  1.000000"
      ]
     },
     "execution_count": 18,
     "metadata": {},
     "output_type": "execute_result"
    }
   ],
   "source": [
    "# continuous vs continuous\n",
    "pd.crosstab(train.beds, train.baths).corr()"
   ]
  },
  {
   "cell_type": "code",
   "execution_count": 19,
   "id": "9657e9e8",
   "metadata": {},
   "outputs": [
    {
     "data": {
      "text/plain": [
       "<AxesSubplot:xlabel='baths', ylabel='baths'>"
      ]
     },
     "execution_count": 19,
     "metadata": {},
     "output_type": "execute_result"
    },
    {
     "data": {
      "image/png": "[encoded data removed]",
      "text/plain": [
       "<Figure size 432x288 with 2 Axes>"
      ]
     },
     "metadata": {
      "needs_background": "light"
     },
     "output_type": "display_data"
    }
   ],
   "source": [
    "sns.heatmap(pd.crosstab(train.beds, train.baths).corr(), annot=True)"
   ]
  },
  {
   "cell_type": "code",
   "execution_count": 20,
   "id": "1c7491fa",
   "metadata": {},
   "outputs": [
    {
     "data": {
      "text/plain": [
       "<AxesSubplot:xlabel='beds', ylabel='baths'>"
      ]
     },
     "execution_count": 20,
     "metadata": {},
     "output_type": "execute_result"
    },
    {
     "data": {
      "image/png": "[encoded data removed]",
      "text/plain": [
       "<Figure size 432x288 with 1 Axes>"
      ]
     },
     "metadata": {
      "needs_background": "light"
     },
     "output_type": "display_data"
    }
   ],
   "source": [
    "sns.barplot(data=train, x='beds', y='baths')"
   ]
  },
  {
   "cell_type": "markdown",
   "id": "6e4cbad2",
   "metadata": {},
   "source": [
    "From this visualization, I can clearly see that on average, the more bedrooms a home has, the more bathrooms it will have.\n",
    "\n",
    "**Yes, there is a relationship between number of bedrooms and number of bathrooms.**"
   ]
  },
  {
   "cell_type": "markdown",
   "id": "1e85142f",
   "metadata": {},
   "source": [
    "### Question 3: Do bigger homes have more bathrooms?"
   ]
  },
  {
   "cell_type": "code",
   "execution_count": 21,
   "id": "d557d0b9",
   "metadata": {},
   "outputs": [
    {
     "data": {
      "text/plain": [
       "<AxesSubplot:xlabel='baths', ylabel='sq_ft'>"
      ]
     },
     "execution_count": 21,
     "metadata": {},
     "output_type": "execute_result"
    },
    {
     "data": {
      "image/png": "[encoded data removed]",
      "text/plain": [
       "<Figure size 432x288 with 1 Axes>"
      ]
     },
     "metadata": {
      "needs_background": "light"
     },
     "output_type": "display_data"
    }
   ],
   "source": [
    "# sq_ft vs baths\n",
    "sns.barplot(data=train, y='sq_ft', x='baths')"
   ]
  },
  {
   "cell_type": "code",
   "execution_count": null,
   "id": "3e90c68b",
   "metadata": {},
   "outputs": [],
   "source": []
  },
  {
   "cell_type": "markdown",
   "id": "4750f7c5",
   "metadata": {},
   "source": [
    "**Yes, bigger homes tend to have more bathrooms.**"
   ]
  },
  {
   "cell_type": "markdown",
   "id": "f7a2d700",
   "metadata": {},
   "source": [
    "### Question 4: What drives tax_value? (Which features are most strongly correlated with tax value?)"
   ]
  },
  {
   "cell_type": "code",
   "execution_count": 22,
   "id": "0b66b727",
   "metadata": {},
   "outputs": [
    {
     "data": {
      "image/png": "[encoded data removed]",
      "text/plain": [
       "<Figure size 432x288 with 4 Axes>"
      ]
     },
     "metadata": {
      "needs_background": "light"
     },
     "output_type": "display_data"
    }
   ],
   "source": [
    "from scipy.stats import pearsonr, spearmanr\n",
    "plt.subplot(121)\n",
    "zillow_corr = train[out_cols].corr()\n",
    "sns.heatmap(zillow_corr, cmap='Purples', annot=True, linewidth=0.5, mask= np.triu(zillow_corr))\n",
    "plt.title('pearson')\n",
    "plt.subplot(122)\n",
    "zillow_spearman = train[out_cols].corr(method='spearman')\n",
    "sns.heatmap(zillow_spearman, cmap='Purples', annot=True, linewidth=0.5, mask= np.triu(zillow_spearman))\n",
    "plt.title('spearman')\n",
    "plt.tight_layout()\n",
    "plt.show()"
   ]
  },
  {
   "cell_type": "markdown",
   "id": "96f15728",
   "metadata": {},
   "source": [
    "- Looks like `sq_ft` is the most correlated with `tax_value` \n",
    "- The strongest relationship in this heatmap is that between `baths` and `sq_ft`\n",
    "\n",
    "I want to get a better feel for which features are most strongly driving `tax_value` so I will use Select K-Best and Recursive Feature Elimination to rank the features."
   ]
  },
  {
   "cell_type": "code",
   "execution_count": 23,
   "id": "789c7f3b",
   "metadata": {},
   "outputs": [
    {
     "name": "stdout",
     "output_type": "stream",
     "text": [
      "['beds_scaled', 'baths_scaled', 'sq_ft_scaled']\n",
      "['sq_ft_scaled']\n"
     ]
    }
   ],
   "source": [
    "from sklearn.feature_selection import SelectKBest, f_regression, RFE\n",
    "from sklearn.linear_model import LinearRegression\n",
    "\n",
    "# split data into x and y\n",
    "# predictors\n",
    "x = train[['beds_scaled', 'baths_scaled', 'sq_ft_scaled', 'fips']]\n",
    "# target\n",
    "y = train.tax_value\n",
    "# create f_selector object\n",
    "f_selector = SelectKBest(f_regression, 3)\n",
    "# fit object to data\n",
    "f_selector.fit(x, y)\n",
    "# mask of features list\n",
    "f_mask = f_selector.get_support()\n",
    "# list True features\n",
    "f_feature = x.iloc[:,f_mask].columns.tolist()\n",
    "print(f_feature)\n",
    "\n",
    "# create linear regression object\n",
    "lm = LinearRegression()\n",
    "# create rfe object\n",
    "rfe = RFE(lm, 1)\n",
    "# fit object to data\n",
    "rfe.fit(x, y)\n",
    "# mask\n",
    "f_mask = rfe.support_\n",
    "# list features\n",
    "rfe_feature = x.iloc[:,f_mask].columns.tolist()\n",
    "print(rfe_feature)"
   ]
  },
  {
   "cell_type": "code",
   "execution_count": 24,
   "id": "bf2e9fe5",
   "metadata": {},
   "outputs": [
    {
     "data": {
      "text/html": [
       "<div>\n",
       "<style scoped>\n",
       "    .dataframe tbody tr th:only-of-type {\n",
       "        vertical-align: middle;\n",
       "    }\n",
       "\n",
       "    .dataframe tbody tr th {\n",
       "        vertical-align: top;\n",
       "    }\n",
       "\n",
       "    .dataframe thead th {\n",
       "        text-align: right;\n",
       "    }\n",
       "</style>\n",
       "<table border=\"1\" class=\"dataframe\">\n",
       "  <thead>\n",
       "    <tr style=\"text-align: right;\">\n",
       "      <th></th>\n",
       "      <th>Feature</th>\n",
       "      <th>Rank</th>\n",
       "    </tr>\n",
       "  </thead>\n",
       "  <tbody>\n",
       "    <tr>\n",
       "      <th>2</th>\n",
       "      <td>sq_ft_scaled</td>\n",
       "      <td>1</td>\n",
       "    </tr>\n",
       "    <tr>\n",
       "      <th>0</th>\n",
       "      <td>beds_scaled</td>\n",
       "      <td>2</td>\n",
       "    </tr>\n",
       "    <tr>\n",
       "      <th>1</th>\n",
       "      <td>baths_scaled</td>\n",
       "      <td>3</td>\n",
       "    </tr>\n",
       "    <tr>\n",
       "      <th>3</th>\n",
       "      <td>fips</td>\n",
       "      <td>4</td>\n",
       "    </tr>\n",
       "  </tbody>\n",
       "</table>\n",
       "</div>"
      ],
      "text/plain": [
       "        Feature  Rank\n",
       "2  sq_ft_scaled     1\n",
       "0   beds_scaled     2\n",
       "1  baths_scaled     3\n",
       "3          fips     4"
      ]
     },
     "execution_count": 24,
     "metadata": {},
     "output_type": "execute_result"
    }
   ],
   "source": [
    "rfe.ranking_\n",
    "rfe_ranks = pd.DataFrame({'Feature':x.columns.tolist(), 'Rank':rfe.ranking_})\n",
    "rfe_ranks.sort_values('Rank')"
   ]
  },
  {
   "cell_type": "markdown",
   "id": "f239906f",
   "metadata": {},
   "source": [
    "So according to RFE, the features in order of importance are: `sq_ft`, `beds`, `baths`, then `fips`.\n",
    "\n",
    "However, according to Select K-Best, `baths` is more important than `beds`.\n",
    "\n",
    "Using either method, **`sq_ft` is the biggest driver of `tax_value`.**\n",
    "\n",
    "Just to be sure, I'll run a correlation test between `tax_value` and `sq_ft`\n",
    "\n",
    "$H_{0}$: There is no linear correlation between `sq_ft` and `tax_value`\n",
    "\n",
    "$H_{a}$: There is a significant linear correlation between `sq_ft` and `tax_value`"
   ]
  },
  {
   "cell_type": "code",
   "execution_count": 25,
   "id": "d13521ee",
   "metadata": {},
   "outputs": [
    {
     "data": {
      "text/plain": [
       "array([[<AxesSubplot:title={'center':'sq_ft'}>,\n",
       "        <AxesSubplot:title={'center':'tax_value'}>]], dtype=object)"
      ]
     },
     "execution_count": 25,
     "metadata": {},
     "output_type": "execute_result"
    },
    {
     "data": {
      "image/png": "[encoded data removed]",
      "text/plain": [
       "<Figure size 432x288 with 2 Axes>"
      ]
     },
     "metadata": {
      "needs_background": "light"
     },
     "output_type": "display_data"
    }
   ],
   "source": [
    "# view distributions of variables\n",
    "train[['sq_ft', 'tax_value']].hist()"
   ]
  },
  {
   "cell_type": "code",
   "execution_count": 26,
   "id": "73b9b2ae",
   "metadata": {},
   "outputs": [
    {
     "data": {
      "text/plain": [
       "<seaborn.axisgrid.FacetGrid at 0x7fc2f379ed90>"
      ]
     },
     "execution_count": 26,
     "metadata": {},
     "output_type": "execute_result"
    },
    {
     "data": {
      "image/png": "[encoded data removed]",
      "text/plain": [
       "<Figure size 360x360 with 1 Axes>"
      ]
     },
     "metadata": {
      "needs_background": "light"
     },
     "output_type": "display_data"
    }
   ],
   "source": [
    "# view lmplot\n",
    "sns.lmplot(data=train, x='sq_ft', y='tax_value', line_kws={'color':'red'})"
   ]
  },
  {
   "cell_type": "code",
   "execution_count": 27,
   "id": "2596b1f1",
   "metadata": {},
   "outputs": [
    {
     "data": {
      "text/plain": [
       "(0.4439850137758975, 0.0)"
      ]
     },
     "execution_count": 27,
     "metadata": {},
     "output_type": "execute_result"
    }
   ],
   "source": [
    "# calculate corr, p-value\n",
    "corr, p = stats.pearsonr(train.sq_ft, train.tax_value)\n",
    "corr, p"
   ]
  },
  {
   "cell_type": "markdown",
   "id": "f11f8898",
   "metadata": {},
   "source": [
    "There is evidence to support rejecting the null hypothesis.\n",
    "\n",
    "The correlation test confirms that there is a linear relationship between `sq_ft` and `tax_value`."
   ]
  },
  {
   "cell_type": "markdown",
   "id": "646e3186",
   "metadata": {},
   "source": [
    "## Data Exploration Summary\n",
    "\n",
    "### Initial Questions\n",
    "1. Does a home's location affect how much it costs?\n",
    "2. Is there a relationship between number of bedrooms and number of bathrooms?\n",
    "3. Do bigger homes have more bathrooms?\n",
    "4. What drives tax_value? (Which features are most strongly correlated with tax value?)\n",
    "\n",
    "### Key Findings\n",
    "- There is a linear correlation between `sq_ft` and `tax_value`\n",
    "- There is a significant relationship between `baths` and `sq_ft`\n",
    "- There is a difference in mean home value depending on where the home is located.\n",
    "- There is a relationship between `beds` and `baths`\n",
    "\n",
    "### Takeaways\n",
    "- At this point, `sq_ft` appears to be the strongest driver of `tax_value`\n",
    "- On average, more bedrooms means more bathrooms\n",
    "- Bigger houses have more bathrooms\n",
    "- Although `fips` does seem to have an effect on `tax_value`, it does not appear to be significant enough to include in the modeling stage at this time.\n",
    "\n",
    "### Actions\n",
    "- I will use `sq_ft`, `beds`, and `baths` to create my models."
   ]
  },
  {
   "cell_type": "code",
   "execution_count": null,
   "id": "efe35452",
   "metadata": {},
   "outputs": [],
   "source": []
  }
 ],
 "metadata": {
  "kernelspec": {
   "display_name": "Python 3",
   "language": "python",
   "name": "python3"
  },
  "language_info": {
   "codemirror_mode": {
    "name": "ipython",
    "version": 3
   },
   "file_extension": ".py",
   "mimetype": "text/x-python",
   "name": "python",
   "nbconvert_exporter": "python",
   "pygments_lexer": "ipython3",
   "version": "3.8.8"
  }
 },
 "nbformat": 4,
 "nbformat_minor": 5
}
