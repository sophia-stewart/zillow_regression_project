{
 "cells": [
  {
   "cell_type": "markdown",
   "id": "15842238",
   "metadata": {},
   "source": [
    "# Modeling\n",
    "---\n",
    "\n",
    "To begin, I intend to create a baseline model from the mean `tax_value`. Then, I will be creating three models to compare against the baseline:\n",
    "\n",
    "- Linear Regression (Ordinary Least Squares)\n",
    "- LassoLars\n",
    "- Polynomial\n",
    "\n",
    "For my evaluation metric, I will be using RMSE. I chose RMSE because it gives a clear idea of how much error we are seeing in each model. Rather than getting a somewhat abstract idea of our model's error, we can see it in terms of the target variable's units (dollars, in this case)."
   ]
  },
  {
   "cell_type": "code",
   "execution_count": 4,
   "id": "fc25a099",
   "metadata": {},
   "outputs": [
    {
     "data": {
      "text/html": [
       "<div>\n",
       "<style scoped>\n",
       "    .dataframe tbody tr th:only-of-type {\n",
       "        vertical-align: middle;\n",
       "    }\n",
       "\n",
       "    .dataframe tbody tr th {\n",
       "        vertical-align: top;\n",
       "    }\n",
       "\n",
       "    .dataframe thead th {\n",
       "        text-align: right;\n",
       "    }\n",
       "</style>\n",
       "<table border=\"1\" class=\"dataframe\">\n",
       "  <thead>\n",
       "    <tr style=\"text-align: right;\">\n",
       "      <th></th>\n",
       "      <th>beds</th>\n",
       "      <th>baths</th>\n",
       "      <th>sq_ft</th>\n",
       "      <th>tax_value</th>\n",
       "      <th>fips</th>\n",
       "      <th>beds_scaled</th>\n",
       "      <th>baths_scaled</th>\n",
       "      <th>sq_ft_scaled</th>\n",
       "    </tr>\n",
       "  </thead>\n",
       "  <tbody>\n",
       "    <tr>\n",
       "      <th>17227</th>\n",
       "      <td>2.0</td>\n",
       "      <td>1.0</td>\n",
       "      <td>877.0</td>\n",
       "      <td>148732.0</td>\n",
       "      <td>6037.0</td>\n",
       "      <td>-1.536937</td>\n",
       "      <td>-1.517808</td>\n",
       "      <td>-1.348418</td>\n",
       "    </tr>\n",
       "    <tr>\n",
       "      <th>36170</th>\n",
       "      <td>3.0</td>\n",
       "      <td>2.0</td>\n",
       "      <td>1386.0</td>\n",
       "      <td>319465.0</td>\n",
       "      <td>6059.0</td>\n",
       "      <td>-0.268813</td>\n",
       "      <td>-0.139870</td>\n",
       "      <td>-0.518473</td>\n",
       "    </tr>\n",
       "    <tr>\n",
       "      <th>16538</th>\n",
       "      <td>4.0</td>\n",
       "      <td>2.5</td>\n",
       "      <td>2064.0</td>\n",
       "      <td>810703.0</td>\n",
       "      <td>6059.0</td>\n",
       "      <td>0.999311</td>\n",
       "      <td>0.549099</td>\n",
       "      <td>0.587033</td>\n",
       "    </tr>\n",
       "    <tr>\n",
       "      <th>29765</th>\n",
       "      <td>3.0</td>\n",
       "      <td>2.0</td>\n",
       "      <td>1323.0</td>\n",
       "      <td>393000.0</td>\n",
       "      <td>6037.0</td>\n",
       "      <td>-0.268813</td>\n",
       "      <td>-0.139870</td>\n",
       "      <td>-0.621197</td>\n",
       "    </tr>\n",
       "    <tr>\n",
       "      <th>22836</th>\n",
       "      <td>4.0</td>\n",
       "      <td>3.0</td>\n",
       "      <td>2605.0</td>\n",
       "      <td>202872.0</td>\n",
       "      <td>6037.0</td>\n",
       "      <td>0.999311</td>\n",
       "      <td>1.238067</td>\n",
       "      <td>1.469155</td>\n",
       "    </tr>\n",
       "  </tbody>\n",
       "</table>\n",
       "</div>"
      ],
      "text/plain": [
       "       beds  baths   sq_ft  tax_value    fips  beds_scaled  baths_scaled  \\\n",
       "17227   2.0    1.0   877.0   148732.0  6037.0    -1.536937     -1.517808   \n",
       "36170   3.0    2.0  1386.0   319465.0  6059.0    -0.268813     -0.139870   \n",
       "16538   4.0    2.5  2064.0   810703.0  6059.0     0.999311      0.549099   \n",
       "29765   3.0    2.0  1323.0   393000.0  6037.0    -0.268813     -0.139870   \n",
       "22836   4.0    3.0  2605.0   202872.0  6037.0     0.999311      1.238067   \n",
       "\n",
       "       sq_ft_scaled  \n",
       "17227     -1.348418  \n",
       "36170     -0.518473  \n",
       "16538      0.587033  \n",
       "29765     -0.621197  \n",
       "22836      1.469155  "
      ]
     },
     "execution_count": 4,
     "metadata": {},
     "output_type": "execute_result"
    }
   ],
   "source": [
    "# import modules\n",
    "import pandas as pd\n",
    "import seaborn as sns\n",
    "from matplotlib import pyplot as plt\n",
    "import itertools\n",
    "import wrangle\n",
    "from sklearn.metrics import mean_squared_error\n",
    "from sklearn.linear_model import LinearRegression, LassoLars\n",
    "from sklearn.preprocessing import PolynomialFeatures\n",
    "# turn off pink warnings\n",
    "import warnings\n",
    "warnings.filterwarnings('ignore')\n",
    "\n",
    "# list columns for outlier removal\n",
    "out_cols = ['beds', 'baths', 'sq_ft', 'tax_value']\n",
    "# list columns for scaling\n",
    "scaled_cols = ['beds', 'baths', 'sq_ft']\n",
    "# wrangle data\n",
    "train, validate, test = wrangle.wrangle_zillow(out_cols, 1.5, scaled_cols)\n",
    "# preview train data\n",
    "train.head()"
   ]
  },
  {
   "cell_type": "code",
   "execution_count": 5,
   "id": "1f437118",
   "metadata": {},
   "outputs": [
    {
     "data": {
      "text/plain": [
       "374001.18450097844"
      ]
     },
     "execution_count": 5,
     "metadata": {},
     "output_type": "execute_result"
    }
   ],
   "source": [
    "# establish baseline\n",
    "baseline = train.tax_value.mean()\n",
    "baseline"
   ]
  },
  {
   "cell_type": "code",
   "execution_count": 6,
   "id": "da1befee",
   "metadata": {},
   "outputs": [],
   "source": [
    "# separate samples into x and y\n",
    "scaled_cols = ['beds_scaled', 'baths_scaled', 'sq_ft_scaled']\n",
    "\n",
    "x_train = train[scaled_cols]\n",
    "y_train = train.tax_value\n",
    "\n",
    "x_validate = validate[scaled_cols]\n",
    "y_validate = validate.tax_value\n",
    "\n",
    "x_test = test[scaled_cols]\n",
    "y_test = test.tax_value"
   ]
  },
  {
   "cell_type": "code",
   "execution_count": 8,
   "id": "0182b2ac",
   "metadata": {},
   "outputs": [
    {
     "name": "stdout",
     "output_type": "stream",
     "text": [
      "Baseline(mean `tax_value`) RMSE\n",
      "Train: 244969.44100949066\n",
      "Validate: 244786.9506494297\n"
     ]
    }
   ],
   "source": [
    "# evaluate baseline\n",
    "y_train = pd.DataFrame(y_train)\n",
    "y_validate = pd.DataFrame(y_validate)\n",
    "\n",
    "y_train['baseline'] = baseline\n",
    "y_validate['baseline'] = baseline\n",
    "\n",
    "rmse_train = mean_squared_error(y_train.tax_value, y_train.baseline)**0.5\n",
    "rmse_validate = mean_squared_error(y_validate.tax_value, y_validate.baseline)**0.5\n",
    "\n",
    "print('Baseline(mean `tax_value`) RMSE')\n",
    "print(f'Train: {rmse_train}')\n",
    "print(f'Validate: {rmse_validate}')"
   ]
  },
  {
   "cell_type": "markdown",
   "id": "970995ad",
   "metadata": {},
   "source": [
    "## Model 1: OLS"
   ]
  },
  {
   "cell_type": "code",
   "execution_count": 10,
   "id": "971c4489",
   "metadata": {},
   "outputs": [
    {
     "name": "stdout",
     "output_type": "stream",
     "text": [
      "OLS RMSE Train: 217613.08303855872\n",
      "OLS RMSE Validate: 216699.00485652036\n"
     ]
    }
   ],
   "source": [
    "# create object\n",
    "lm = LinearRegression(normalize=True)\n",
    "# fit model to train\n",
    "lm.fit(x_train, y_train.tax_value)\n",
    "# train predictions\n",
    "y_train['ols_pred'] = lm.predict(x_train)\n",
    "# evaluate model on train\n",
    "rmse_train_ols = mean_squared_error(y_train.tax_value, y_train.ols_pred)**0.5\n",
    "# validate predictions\n",
    "y_validate['ols_pred'] = lm.predict(x_validate)\n",
    "# evaluate model on validate\n",
    "rmse_validate_ols = mean_squared_error(y_validate.tax_value, y_validate.ols_pred)**0.5\n",
    "\n",
    "# print results\n",
    "print(f'OLS RMSE Train: {rmse_train_ols}')\n",
    "print(f'OLS RMSE Validate: {rmse_validate_ols}')"
   ]
  },
  {
   "cell_type": "markdown",
   "id": "7dcda6c2",
   "metadata": {},
   "source": [
    "## Model 2: LassoLars"
   ]
  },
  {
   "cell_type": "code",
   "execution_count": 11,
   "id": "7f99fc11",
   "metadata": {},
   "outputs": [
    {
     "name": "stdout",
     "output_type": "stream",
     "text": [
      "LassoLars RMSE Train: 217613.41467660828\n",
      "LassoLars RMSE Validate: 216689.23021125476\n"
     ]
    }
   ],
   "source": [
    "# create object\n",
    "lars = LassoLars()\n",
    "# fit model to train\n",
    "lars.fit(x_train, y_train.tax_value)\n",
    "# make predictions on train\n",
    "y_train['ll_pred'] = lars.predict(x_train)\n",
    "# evaluate model on train\n",
    "rmse_train_ll = mean_squared_error(y_train.tax_value, y_train.ll_pred)**0.5\n",
    "# validate predictions\n",
    "y_validate['ll_pred'] = lars.predict(x_validate)\n",
    "# evaluate model on validate\n",
    "rmse_validate_ll = mean_squared_error(y_validate.tax_value, y_validate.ll_pred)**0.5\n",
    "\n",
    "# print results\n",
    "print(f'LassoLars RMSE Train: {rmse_train_ll}')\n",
    "print(f'LassoLars RMSE Validate: {rmse_validate_ll}')"
   ]
  },
  {
   "cell_type": "markdown",
   "id": "e92cca29",
   "metadata": {},
   "source": [
    "## Model 3: Polynomial Regression"
   ]
  },
  {
   "cell_type": "code",
   "execution_count": 13,
   "id": "8f2ffb8c",
   "metadata": {},
   "outputs": [],
   "source": [
    "# create polynomial features object\n",
    "poly_feat = PolynomialFeatures()\n",
    "# fit/transform object on train\n",
    "x_train_poly = poly_feat.fit_transform(x_train)\n",
    "# transform on validate and test\n",
    "x_validate_poly = poly_feat.transform(x_validate)\n",
    "x_test_poly = poly_feat.transform(x_test)"
   ]
  },
  {
   "cell_type": "code",
   "execution_count": 14,
   "id": "aa39cbb0",
   "metadata": {},
   "outputs": [
    {
     "name": "stdout",
     "output_type": "stream",
     "text": [
      "Polynomial Regression RMSE Train: 217533.63421490567\n",
      "Polynomial Regression RMSE Validate: 216584.59703183424\n"
     ]
    }
   ],
   "source": [
    "# create model object\n",
    "plm = LinearRegression(normalize=True)\n",
    "# fit model to train\n",
    "plm.fit(x_train_poly, y_train.tax_value)\n",
    "# make predictions on train\n",
    "y_train['poly_pred'] = plm.predict(x_train_poly)\n",
    "# evaluate model on train\n",
    "rmse_train_poly = mean_squared_error(y_train.tax_value, y_train.poly_pred)**0.5\n",
    "# validate predictions\n",
    "y_validate['poly_pred'] = plm.predict(x_validate_poly)\n",
    "# evaluate model on validate\n",
    "rmse_validate_poly = mean_squared_error(y_validate.tax_value, y_validate.poly_pred)**0.5\n",
    "\n",
    "# print results\n",
    "print(f'Polynomial Regression RMSE Train: {rmse_train_poly}')\n",
    "print(f'Polynomial Regression RMSE Validate: {rmse_validate_poly}')"
   ]
  },
  {
   "cell_type": "code",
   "execution_count": 18,
   "id": "01eac25e",
   "metadata": {},
   "outputs": [
    {
     "data": {
      "text/html": [
       "<div>\n",
       "<style scoped>\n",
       "    .dataframe tbody tr th:only-of-type {\n",
       "        vertical-align: middle;\n",
       "    }\n",
       "\n",
       "    .dataframe tbody tr th {\n",
       "        vertical-align: top;\n",
       "    }\n",
       "\n",
       "    .dataframe thead th {\n",
       "        text-align: right;\n",
       "    }\n",
       "</style>\n",
       "<table border=\"1\" class=\"dataframe\">\n",
       "  <thead>\n",
       "    <tr style=\"text-align: right;\">\n",
       "      <th></th>\n",
       "      <th>Linear Regression</th>\n",
       "      <th>LassoLars</th>\n",
       "      <th>Polynomial</th>\n",
       "      <th>Baseline</th>\n",
       "    </tr>\n",
       "  </thead>\n",
       "  <tbody>\n",
       "    <tr>\n",
       "      <th>train</th>\n",
       "      <td>217613.083039</td>\n",
       "      <td>217613.414677</td>\n",
       "      <td>217533.634215</td>\n",
       "      <td>244969.441009</td>\n",
       "    </tr>\n",
       "    <tr>\n",
       "      <th>validate</th>\n",
       "      <td>216699.004857</td>\n",
       "      <td>216689.230211</td>\n",
       "      <td>216584.597032</td>\n",
       "      <td>244786.950649</td>\n",
       "    </tr>\n",
       "    <tr>\n",
       "      <th>difference</th>\n",
       "      <td>914.078182</td>\n",
       "      <td>924.184465</td>\n",
       "      <td>949.037183</td>\n",
       "      <td>182.490360</td>\n",
       "    </tr>\n",
       "  </tbody>\n",
       "</table>\n",
       "</div>"
      ],
      "text/plain": [
       "            Linear Regression      LassoLars     Polynomial       Baseline\n",
       "train           217613.083039  217613.414677  217533.634215  244969.441009\n",
       "validate        216699.004857  216689.230211  216584.597032  244786.950649\n",
       "difference         914.078182     924.184465     949.037183     182.490360"
      ]
     },
     "execution_count": 18,
     "metadata": {},
     "output_type": "execute_result"
    }
   ],
   "source": [
    "# view results as dataframe\n",
    "rmse = pd.DataFrame({'Linear Regression':[rmse_train_ols, rmse_validate_ols, (rmse_train_ols-rmse_validate_ols)],\n",
    "                    'LassoLars':[rmse_train_ll, rmse_validate_ll, (rmse_train_ll-rmse_validate_ll)],\n",
    "                    'Polynomial':[rmse_train_poly, rmse_validate_poly, (rmse_train_poly-rmse_validate_poly)],\n",
    "                    'Baseline':[rmse_train, rmse_validate, (rmse_train-rmse_validate)]},\n",
    "                    index=['train', 'validate', 'difference'])\n",
    "rmse"
   ]
  },
  {
   "cell_type": "markdown",
   "id": "c9324f91",
   "metadata": {},
   "source": [
    "Our top model is the Polynomial Regression model!\n",
    "\n",
    "Knowing this, I can now evaluate this model on the test dataset."
   ]
  },
  {
   "cell_type": "code",
   "execution_count": 20,
   "id": "a7b5cdfb",
   "metadata": {},
   "outputs": [
    {
     "name": "stdout",
     "output_type": "stream",
     "text": [
      "Baseline RMSE Test: 243476.17293529224\n",
      "Polynomial Regression RMSE Test: 217301.69629665604\n"
     ]
    }
   ],
   "source": [
    "# make y_test into dataframe\n",
    "y_test = pd.DataFrame(y_test)\n",
    "# evaluate baseline on test\n",
    "y_test['baseline'] = baseline\n",
    "rmse_test = mean_squared_error(y_test.tax_value, y_test.baseline)**0.5\n",
    "\n",
    "\n",
    "# test predictions\n",
    "y_test['poly_pred'] = plm.predict(x_test_poly)\n",
    "# evaluate model on validate\n",
    "rmse_test_poly = mean_squared_error(y_test.tax_value, y_test.poly_pred)**0.5\n",
    "# print results\n",
    "print(f'Baseline RMSE Test: {rmse_test}')\n",
    "print(f'Polynomial Regression RMSE Test: {rmse_test_poly}')"
   ]
  },
  {
   "cell_type": "markdown",
   "id": "9a77a425",
   "metadata": {},
   "source": [
    "My top model was the Polynomial Regression Model.\n",
    "\n",
    "This model performed with an RMSE of 217301.7"
   ]
  },
  {
   "cell_type": "code",
   "execution_count": null,
   "id": "4bfe11e9",
   "metadata": {},
   "outputs": [],
   "source": []
  }
 ],
 "metadata": {
  "kernelspec": {
   "display_name": "Python 3",
   "language": "python",
   "name": "python3"
  },
  "language_info": {
   "codemirror_mode": {
    "name": "ipython",
    "version": 3
   },
   "file_extension": ".py",
   "mimetype": "text/x-python",
   "name": "python",
   "nbconvert_exporter": "python",
   "pygments_lexer": "ipython3",
   "version": "3.8.8"
  }
 },
 "nbformat": 4,
 "nbformat_minor": 5
}
