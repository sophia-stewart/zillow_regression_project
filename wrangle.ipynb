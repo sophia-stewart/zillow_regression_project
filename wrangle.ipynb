{
 "cells": [
  {
   "cell_type": "markdown",
   "id": "77476aab",
   "metadata": {},
   "source": [
    "# Data Wrangling\n",
    "---\n",
    "\n",
    ">We want to be able to predict the property tax assessed values ('taxvaluedollarcnt') of Single Family Properties that had a transaction during 2017.\n",
    ">\n",
    ">We have a model already, but we are hoping your insights can help us improve it. I need recommendations on a way to make a better model. Maybe you will create a new feature out of existing ones that works better, try a non-linear regression algorithm, or try to create a different model for each county. Whatever you find that works (or doesn't work) will be useful. Given you have just joined our team, we are excited to see your outside perspective.\n",
    ">\n",
    ">One last thing, Zach lost the email that told us where these properties were located. Ugh, Zach :-/. Because property taxes are assessed at the county level, we would like to know what states and counties these are located in.\n",
    ">\n",
    ">-- The Zillow Data Science Team\n",
    "\n",
    "---\n",
    "My first step is going to be to look at the data using Sequel Ace to access the zillow database.\n",
    "\n",
    "**Takeaways:**\n",
    "\n",
    "From the `predictions_2017` table:\n",
    "- The latest transaction date is 2018-05-25\n",
    "    - This is also the only transaction in the data I'll be looking into that did not occur in 2017\n",
    "- The earliest transaction date in this data is 2017-01-01\n",
    "\n",
    "From the `propertylandusetype` table:\n",
    "- Single Family Residential properties: propertylandusetypeid = 261\n",
    "- Inferred Single Family Residential properties: propertylandusetypeid = 279\n",
    " - There are 0 rows with this land use type, so I won't worry about it or include it in my SQL query\n",
    " \n",
    "From the `properties_2017` table:\n",
    "- There are a TON of columns in this table\n",
    "- In the interest of time, I will start by focusing only on these 5 features:\n",
    " - bedroomcnt\n",
    " - bathroomcnt\n",
    " - calculatedfinishedsquarefeet\n",
    " - fips\n",
    " - taxvaluedollarcnt\n",
    "- I don't believe fips will have very much of an effect on predicting property tax values but, in the email I received, the team let me know that they would like to know where these properties are located. Therefore, I will include it in my data retrieval so I can also research and deliver that information.\n",
    "- With more time, I would like to dive into the other columns and implement feature engineering"
   ]
  },
  {
   "cell_type": "code",
   "execution_count": 1,
   "id": "3b948553",
   "metadata": {},
   "outputs": [],
   "source": [
    "# import modules\n",
    "import pandas as pd"
   ]
  },
  {
   "cell_type": "code",
   "execution_count": 2,
   "id": "7b7bf9bd",
   "metadata": {},
   "outputs": [],
   "source": [
    "# write function to generate url to access SQL server\n",
    "def get_url(db):\n",
    "    '''\n",
    "    This function takes in a database name and returns a url (using the specified \n",
    "    database name as well as host, user, and password from env.py) for use in the \n",
    "    pandas.read_sql() function.\n",
    "    '''\n",
    "    from env import host, user, password\n",
    "    return f'mysql+pymysql://{user}:{password}@{host}/{db}'"
   ]
  },
  {
   "cell_type": "markdown",
   "id": "cd4636d4",
   "metadata": {},
   "source": [
    "I decided to alias most of the columns from the SQL server as I imported them so I can get that out of the way right off the bat. I chose to use more simplified variable names for clarity and ease of use (less typing) in my project. The changes are as follows:\n",
    "- `bedroomcnt` = `beds`\n",
    "- `bathroomcnt` = `baths`\n",
    "- `calculatedfinishedsquarefeet` = `sq_ft`\n",
    "- `taxvaluedollarcnt` = `tax_value`"
   ]
  },
  {
   "cell_type": "code",
   "execution_count": 3,
   "id": "86d473cb",
   "metadata": {},
   "outputs": [
    {
     "data": {
      "text/html": [
       "<div>\n",
       "<style scoped>\n",
       "    .dataframe tbody tr th:only-of-type {\n",
       "        vertical-align: middle;\n",
       "    }\n",
       "\n",
       "    .dataframe tbody tr th {\n",
       "        vertical-align: top;\n",
       "    }\n",
       "\n",
       "    .dataframe thead th {\n",
       "        text-align: right;\n",
       "    }\n",
       "</style>\n",
       "<table border=\"1\" class=\"dataframe\">\n",
       "  <thead>\n",
       "    <tr style=\"text-align: right;\">\n",
       "      <th></th>\n",
       "      <th>beds</th>\n",
       "      <th>baths</th>\n",
       "      <th>sq_ft</th>\n",
       "      <th>tax_value</th>\n",
       "      <th>fips</th>\n",
       "    </tr>\n",
       "  </thead>\n",
       "  <tbody>\n",
       "    <tr>\n",
       "      <th>0</th>\n",
       "      <td>4.0</td>\n",
       "      <td>3.5</td>\n",
       "      <td>3100.0</td>\n",
       "      <td>1023282.0</td>\n",
       "      <td>6059.0</td>\n",
       "    </tr>\n",
       "    <tr>\n",
       "      <th>1</th>\n",
       "      <td>2.0</td>\n",
       "      <td>1.0</td>\n",
       "      <td>1465.0</td>\n",
       "      <td>464000.0</td>\n",
       "      <td>6111.0</td>\n",
       "    </tr>\n",
       "    <tr>\n",
       "      <th>2</th>\n",
       "      <td>3.0</td>\n",
       "      <td>2.0</td>\n",
       "      <td>1243.0</td>\n",
       "      <td>564778.0</td>\n",
       "      <td>6059.0</td>\n",
       "    </tr>\n",
       "    <tr>\n",
       "      <th>3</th>\n",
       "      <td>4.0</td>\n",
       "      <td>3.0</td>\n",
       "      <td>2376.0</td>\n",
       "      <td>145143.0</td>\n",
       "      <td>6037.0</td>\n",
       "    </tr>\n",
       "    <tr>\n",
       "      <th>4</th>\n",
       "      <td>4.0</td>\n",
       "      <td>3.0</td>\n",
       "      <td>2962.0</td>\n",
       "      <td>773303.0</td>\n",
       "      <td>6037.0</td>\n",
       "    </tr>\n",
       "  </tbody>\n",
       "</table>\n",
       "</div>"
      ],
      "text/plain": [
       "   beds  baths   sq_ft  tax_value    fips\n",
       "0   4.0    3.5  3100.0  1023282.0  6059.0\n",
       "1   2.0    1.0  1465.0   464000.0  6111.0\n",
       "2   3.0    2.0  1243.0   564778.0  6059.0\n",
       "3   4.0    3.0  2376.0   145143.0  6037.0\n",
       "4   4.0    3.0  2962.0   773303.0  6037.0"
      ]
     },
     "execution_count": 3,
     "metadata": {},
     "output_type": "execute_result"
    }
   ],
   "source": [
    "# use above function to generate url\n",
    "url = get_url('zillow')\n",
    "# write SQL query to retrieve data\n",
    "sql = \"SELECT bedroomcnt as beds, bathroomcnt as baths, calculatedfinishedsquarefeet as sq_ft, taxvaluedollarcnt as tax_value, fips FROM properties_2017 JOIN predictions_2017 USING(parcelid) WHERE transactiondate <= '2017-12-31' AND propertylandusetypeid = 261;\"\n",
    "# assign query result to variable\n",
    "zillow = pd.read_sql(sql, url)\n",
    "# preview data\n",
    "zillow.head()"
   ]
  },
  {
   "cell_type": "markdown",
   "id": "e68331ae",
   "metadata": {},
   "source": [
    "Before moving forward, I will define a function to acquire the zillow data I will be using and cache it to a .csv file so I won't have to access the SQL server every time I need a fresh copy of the data."
   ]
  },
  {
   "cell_type": "code",
   "execution_count": 4,
   "id": "0fc84915",
   "metadata": {},
   "outputs": [
    {
     "data": {
      "text/html": [
       "<div>\n",
       "<style scoped>\n",
       "    .dataframe tbody tr th:only-of-type {\n",
       "        vertical-align: middle;\n",
       "    }\n",
       "\n",
       "    .dataframe tbody tr th {\n",
       "        vertical-align: top;\n",
       "    }\n",
       "\n",
       "    .dataframe thead th {\n",
       "        text-align: right;\n",
       "    }\n",
       "</style>\n",
       "<table border=\"1\" class=\"dataframe\">\n",
       "  <thead>\n",
       "    <tr style=\"text-align: right;\">\n",
       "      <th></th>\n",
       "      <th>beds</th>\n",
       "      <th>baths</th>\n",
       "      <th>sq_ft</th>\n",
       "      <th>tax_value</th>\n",
       "      <th>fips</th>\n",
       "    </tr>\n",
       "  </thead>\n",
       "  <tbody>\n",
       "    <tr>\n",
       "      <th>0</th>\n",
       "      <td>4.0</td>\n",
       "      <td>3.5</td>\n",
       "      <td>3100.0</td>\n",
       "      <td>1023282.0</td>\n",
       "      <td>6059.0</td>\n",
       "    </tr>\n",
       "    <tr>\n",
       "      <th>1</th>\n",
       "      <td>2.0</td>\n",
       "      <td>1.0</td>\n",
       "      <td>1465.0</td>\n",
       "      <td>464000.0</td>\n",
       "      <td>6111.0</td>\n",
       "    </tr>\n",
       "    <tr>\n",
       "      <th>2</th>\n",
       "      <td>3.0</td>\n",
       "      <td>2.0</td>\n",
       "      <td>1243.0</td>\n",
       "      <td>564778.0</td>\n",
       "      <td>6059.0</td>\n",
       "    </tr>\n",
       "    <tr>\n",
       "      <th>3</th>\n",
       "      <td>4.0</td>\n",
       "      <td>3.0</td>\n",
       "      <td>2376.0</td>\n",
       "      <td>145143.0</td>\n",
       "      <td>6037.0</td>\n",
       "    </tr>\n",
       "    <tr>\n",
       "      <th>4</th>\n",
       "      <td>4.0</td>\n",
       "      <td>3.0</td>\n",
       "      <td>2962.0</td>\n",
       "      <td>773303.0</td>\n",
       "      <td>6037.0</td>\n",
       "    </tr>\n",
       "  </tbody>\n",
       "</table>\n",
       "</div>"
      ],
      "text/plain": [
       "   beds  baths   sq_ft  tax_value    fips\n",
       "0   4.0    3.5  3100.0  1023282.0  6059.0\n",
       "1   2.0    1.0  1465.0   464000.0  6111.0\n",
       "2   3.0    2.0  1243.0   564778.0  6059.0\n",
       "3   4.0    3.0  2376.0   145143.0  6037.0\n",
       "4   4.0    3.0  2962.0   773303.0  6037.0"
      ]
     },
     "execution_count": 4,
     "metadata": {},
     "output_type": "execute_result"
    }
   ],
   "source": [
    "# combine previous steps into function\n",
    "# add code to cache dataframe to csv file\n",
    "def acquire_zillow():\n",
    "    '''\n",
    "    This function first searches for a .csv file containing the zillow data and then \n",
    "    reads that file into a dataframe. If zillow.csv is not found, it uses\n",
    "    the get_url() helper function to access the SQL server and read the query result \n",
    "    into a dataframe. It then caches this data into a csv file (zillow.csv).\n",
    "    This function takes no arguments and returns a dataframe of zillow data.\n",
    "    '''\n",
    "    import os\n",
    "    if os.path.isfile('zillow.csv'):\n",
    "        zillow = pd.read_csv('zillow.csv', index_col=0)\n",
    "        return zillow\n",
    "    else:\n",
    "        sql = \"\"\"\n",
    "        SELECT bedroomcnt as beds,\n",
    "        bathroomcnt as baths, \n",
    "        calculatedfinishedsquarefeet as sq_ft, \n",
    "        taxvaluedollarcnt as tax_value, \n",
    "        fips \n",
    "        FROM properties_2017 \n",
    "        JOIN predictions_2017 USING(parcelid) \n",
    "        WHERE transactiondate <= '2017-12-31' \n",
    "        AND propertylandusetypeid = 261;\n",
    "        \"\"\"\n",
    "        zillow = pd.read_sql(sql, get_url('zillow'))\n",
    "        zillow.to_csv('zillow.csv')\n",
    "        return zillow\n",
    "# test function\n",
    "zillow = acquire_zillow()\n",
    "zillow.head()"
   ]
  },
  {
   "cell_type": "code",
   "execution_count": 5,
   "id": "23158903",
   "metadata": {},
   "outputs": [
    {
     "name": "stdout",
     "output_type": "stream",
     "text": [
      "<class 'pandas.core.frame.DataFrame'>\n",
      "Int64Index: 52441 entries, 0 to 52440\n",
      "Data columns (total 5 columns):\n",
      " #   Column     Non-Null Count  Dtype  \n",
      "---  ------     --------------  -----  \n",
      " 0   beds       52441 non-null  float64\n",
      " 1   baths      52441 non-null  float64\n",
      " 2   sq_ft      52359 non-null  float64\n",
      " 3   tax_value  52440 non-null  float64\n",
      " 4   fips       52441 non-null  float64\n",
      "dtypes: float64(5)\n",
      "memory usage: 2.4 MB\n"
     ]
    }
   ],
   "source": [
    "# view dataframe info\n",
    "zillow.info()"
   ]
  },
  {
   "cell_type": "markdown",
   "id": "e028d3c2",
   "metadata": {},
   "source": [
    "I want to see if any of these columns really need to be floats or if they defaulted to float because of nulls."
   ]
  },
  {
   "cell_type": "code",
   "execution_count": 6,
   "id": "e505ce02",
   "metadata": {},
   "outputs": [
    {
     "data": {
      "text/plain": [
       "beds          0\n",
       "baths         0\n",
       "sq_ft        82\n",
       "tax_value     1\n",
       "fips          0\n",
       "dtype: int64"
      ]
     },
     "execution_count": 6,
     "metadata": {},
     "output_type": "execute_result"
    }
   ],
   "source": [
    "# check for null values\n",
    "zillow.isna().sum()"
   ]
  },
  {
   "cell_type": "code",
   "execution_count": 7,
   "id": "bc02e6af",
   "metadata": {},
   "outputs": [
    {
     "name": "stdout",
     "output_type": "stream",
     "text": [
      "3.0     23359\n",
      "4.0     15240\n",
      "2.0      8340\n",
      "5.0      3973\n",
      "6.0       635\n",
      "1.0       612\n",
      "0.0       137\n",
      "7.0       106\n",
      "8.0        24\n",
      "9.0         8\n",
      "12.0        3\n",
      "10.0        2\n",
      "14.0        1\n",
      "11.0        1\n",
      "Name: beds, dtype: int64\n",
      "\n",
      "2.0     21893\n",
      "3.0     10673\n",
      "1.0      9568\n",
      "2.5      3934\n",
      "4.0      2227\n",
      "3.5       918\n",
      "1.5       841\n",
      "5.0       803\n",
      "4.5       687\n",
      "6.0       322\n",
      "5.5       224\n",
      "0.0       121\n",
      "7.0        88\n",
      "8.0        53\n",
      "6.5        47\n",
      "7.5        16\n",
      "9.0        13\n",
      "10.0        5\n",
      "8.5         3\n",
      "11.0        3\n",
      "18.0        1\n",
      "13.0        1\n",
      "Name: baths, dtype: int64\n",
      "\n",
      "1120.0    128\n",
      "1200.0    119\n",
      "1080.0    102\n",
      "936.0      86\n",
      "1040.0     86\n",
      "         ... \n",
      "6359.0      1\n",
      "8161.0      1\n",
      "5110.0      1\n",
      "4970.0      1\n",
      "5479.0      1\n",
      "Name: sq_ft, Length: 4724, dtype: int64\n",
      "\n",
      "455000.0    34\n",
      "600000.0    30\n",
      "550000.0    24\n",
      "500000.0    24\n",
      "450000.0    24\n",
      "            ..\n",
      "51101.0      1\n",
      "82408.0      1\n",
      "168382.0     1\n",
      "529723.0     1\n",
      "409961.0     1\n",
      "Name: tax_value, Length: 38943, dtype: int64\n",
      "\n",
      "6037.0    33910\n",
      "6059.0    14136\n",
      "6111.0     4395\n",
      "Name: fips, dtype: int64\n",
      "\n"
     ]
    }
   ],
   "source": [
    "# look at value counts for all columns\n",
    "for col in zillow.columns:\n",
    "    print(zillow[col].value_counts(dropna=False))\n",
    "    print()"
   ]
  },
  {
   "cell_type": "markdown",
   "id": "b0e3743c",
   "metadata": {},
   "source": [
    "So far, I can see that only `baths` has fractional values, but I want to be sure about the columns that have too many unique values to list: `sq_ft` and `tax_value`."
   ]
  },
  {
   "cell_type": "code",
   "execution_count": 8,
   "id": "2b5879a6",
   "metadata": {},
   "outputs": [
    {
     "data": {
      "text/plain": [
       "sqft\n",
       "0.0     52359\n",
       "dtype: int64"
      ]
     },
     "execution_count": 8,
     "metadata": {},
     "output_type": "execute_result"
    }
   ],
   "source": [
    "# crete dataframe of just values after decimal in sq_ft column\n",
    "sqft_floats = pd.DataFrame([num - int(num) for num in zillow.sq_ft.dropna()], columns=['sqft'])\n",
    "# view unique values after decimal\n",
    "sqft_floats.value_counts()"
   ]
  },
  {
   "cell_type": "code",
   "execution_count": 9,
   "id": "ddce4c93",
   "metadata": {},
   "outputs": [
    {
     "data": {
      "text/plain": [
       "tax\n",
       "0.0    52440\n",
       "dtype: int64"
      ]
     },
     "execution_count": 9,
     "metadata": {},
     "output_type": "execute_result"
    }
   ],
   "source": [
    "# create dataframe of fractional values in tax_value column\n",
    "tax_floats = pd.DataFrame([num - int(num) for num in zillow.tax_value.dropna()], columns=['tax'])\n",
    "# view unique values after decimal\n",
    "tax_floats.value_counts()"
   ]
  },
  {
   "cell_type": "code",
   "execution_count": 10,
   "id": "7e2e690b",
   "metadata": {},
   "outputs": [
    {
     "data": {
      "text/html": [
       "<div>\n",
       "<style scoped>\n",
       "    .dataframe tbody tr th:only-of-type {\n",
       "        vertical-align: middle;\n",
       "    }\n",
       "\n",
       "    .dataframe tbody tr th {\n",
       "        vertical-align: top;\n",
       "    }\n",
       "\n",
       "    .dataframe thead th {\n",
       "        text-align: right;\n",
       "    }\n",
       "</style>\n",
       "<table border=\"1\" class=\"dataframe\">\n",
       "  <thead>\n",
       "    <tr style=\"text-align: right;\">\n",
       "      <th></th>\n",
       "      <th>beds</th>\n",
       "      <th>baths</th>\n",
       "      <th>sq_ft</th>\n",
       "      <th>tax_value</th>\n",
       "      <th>fips</th>\n",
       "    </tr>\n",
       "  </thead>\n",
       "  <tbody>\n",
       "    <tr>\n",
       "      <th>42299</th>\n",
       "      <td>4.0</td>\n",
       "      <td>2.0</td>\n",
       "      <td>1197.0</td>\n",
       "      <td>NaN</td>\n",
       "      <td>6059.0</td>\n",
       "    </tr>\n",
       "  </tbody>\n",
       "</table>\n",
       "</div>"
      ],
      "text/plain": [
       "       beds  baths   sq_ft  tax_value    fips\n",
       "42299   4.0    2.0  1197.0        NaN  6059.0"
      ]
     },
     "execution_count": 10,
     "metadata": {},
     "output_type": "execute_result"
    }
   ],
   "source": [
    "# view null tax_value row\n",
    "zillow[zillow.tax_value.isna()]"
   ]
  },
  {
   "cell_type": "markdown",
   "id": "d2c42b82",
   "metadata": {},
   "source": [
    "**Takeaways:**\n",
    "- `fips` is more of a categorical column since it represents a property's location\n",
    "- `baths` is the only feature with fractional values\n",
    " - `beds`, `sq_ft`, `tax_value`, and `fips` could be converted to int dtypes\n",
    " - null values would need to be dealt with before converting to int\n",
    "- There are 82 null values in `sq_ft`\n",
    "- There is 1 null value in `tax_value`\n",
    " - this row has a non-null value for `sq_ft`\n",
    "- There are a total of 83 rows with null values in this dataset.\n"
   ]
  },
  {
   "cell_type": "code",
   "execution_count": 11,
   "id": "e0b20e87",
   "metadata": {},
   "outputs": [
    {
     "data": {
      "text/plain": [
       "'The proportion of rows with null values in the zillow data is 0.158273%'"
      ]
     },
     "execution_count": 11,
     "metadata": {},
     "output_type": "execute_result"
    }
   ],
   "source": [
    "f'The proportion of rows with null values in the zillow data is {(83/len(zillow)):%}'"
   ]
  },
  {
   "cell_type": "markdown",
   "id": "fffbe344",
   "metadata": {},
   "source": [
    "Since the proportion of null values in my data is so low, I plan to drop these rows rather than impute data that may not be accurate. With more time, I would like to experiment with imputing data to see if it makes a difference in the model's efficacy.\n",
    "\n",
    "However, before I drop these rows I want to look for outliers and see if taking care of those outliers helps reduce the number of missing values. I also want to be sure that handling outliers won't make the sample small enough to be more heavily influenced by dropping the rows with null values."
   ]
  },
  {
   "cell_type": "code",
   "execution_count": 12,
   "id": "ffffd669",
   "metadata": {},
   "outputs": [
    {
     "data": {
      "image/png": "[encoded data removed]",
      "text/plain": [
       "<Figure size 432x288 with 6 Axes>"
      ]
     },
     "metadata": {
      "needs_background": "light"
     },
     "output_type": "display_data"
    }
   ],
   "source": [
    "from matplotlib import pyplot as plt\n",
    "import seaborn as sns\n",
    "\n",
    "# view individual distributions of features\n",
    "zillow.hist()\n",
    "plt.tight_layout()"
   ]
  },
  {
   "cell_type": "code",
   "execution_count": 13,
   "id": "41dacbca",
   "metadata": {},
   "outputs": [
    {
     "data": {
      "text/html": [
       "<div>\n",
       "<style scoped>\n",
       "    .dataframe tbody tr th:only-of-type {\n",
       "        vertical-align: middle;\n",
       "    }\n",
       "\n",
       "    .dataframe tbody tr th {\n",
       "        vertical-align: top;\n",
       "    }\n",
       "\n",
       "    .dataframe thead th {\n",
       "        text-align: right;\n",
       "    }\n",
       "</style>\n",
       "<table border=\"1\" class=\"dataframe\">\n",
       "  <thead>\n",
       "    <tr style=\"text-align: right;\">\n",
       "      <th></th>\n",
       "      <th>beds</th>\n",
       "      <th>baths</th>\n",
       "      <th>sq_ft</th>\n",
       "      <th>tax_value</th>\n",
       "      <th>fips</th>\n",
       "    </tr>\n",
       "  </thead>\n",
       "  <tbody>\n",
       "    <tr>\n",
       "      <th>count</th>\n",
       "      <td>52441</td>\n",
       "      <td>52441</td>\n",
       "      <td>52359</td>\n",
       "      <td>52440</td>\n",
       "      <td>52441</td>\n",
       "    </tr>\n",
       "    <tr>\n",
       "      <th>mean</th>\n",
       "      <td>3.30068</td>\n",
       "      <td>2.2994</td>\n",
       "      <td>1922.89</td>\n",
       "      <td>529688</td>\n",
       "      <td>6049.13</td>\n",
       "    </tr>\n",
       "    <tr>\n",
       "      <th>std</th>\n",
       "      <td>0.949094</td>\n",
       "      <td>1.02277</td>\n",
       "      <td>1004.37</td>\n",
       "      <td>751895</td>\n",
       "      <td>21.0291</td>\n",
       "    </tr>\n",
       "    <tr>\n",
       "      <th>min</th>\n",
       "      <td>0</td>\n",
       "      <td>0</td>\n",
       "      <td>128</td>\n",
       "      <td>1000</td>\n",
       "      <td>6037</td>\n",
       "    </tr>\n",
       "    <tr>\n",
       "      <th>25%</th>\n",
       "      <td>3</td>\n",
       "      <td>2</td>\n",
       "      <td>1268</td>\n",
       "      <td>193748</td>\n",
       "      <td>6037</td>\n",
       "    </tr>\n",
       "    <tr>\n",
       "      <th>50%</th>\n",
       "      <td>3</td>\n",
       "      <td>2</td>\n",
       "      <td>1659</td>\n",
       "      <td>373612</td>\n",
       "      <td>6037</td>\n",
       "    </tr>\n",
       "    <tr>\n",
       "      <th>75%</th>\n",
       "      <td>4</td>\n",
       "      <td>3</td>\n",
       "      <td>2306</td>\n",
       "      <td>619301</td>\n",
       "      <td>6059</td>\n",
       "    </tr>\n",
       "    <tr>\n",
       "      <th>max</th>\n",
       "      <td>14</td>\n",
       "      <td>18</td>\n",
       "      <td>21929</td>\n",
       "      <td>4.90612e+07</td>\n",
       "      <td>6111</td>\n",
       "    </tr>\n",
       "  </tbody>\n",
       "</table>\n",
       "</div>"
      ],
      "text/plain": [
       "           beds    baths    sq_ft    tax_value     fips\n",
       "count     52441    52441    52359        52440    52441\n",
       "mean    3.30068   2.2994  1922.89       529688  6049.13\n",
       "std    0.949094  1.02277  1004.37       751895  21.0291\n",
       "min           0        0      128         1000     6037\n",
       "25%           3        2     1268       193748     6037\n",
       "50%           3        2     1659       373612     6037\n",
       "75%           4        3     2306       619301     6059\n",
       "max          14       18    21929  4.90612e+07     6111"
      ]
     },
     "execution_count": 13,
     "metadata": {},
     "output_type": "execute_result"
    }
   ],
   "source": [
    "# view descriptive stats (with easy-to-read formatting)\n",
    "zillow.describe().apply(lambda s: s.apply(lambda x: format(x, 'g')))"
   ]
  },
  {
   "cell_type": "code",
   "execution_count": 14,
   "id": "b4abe5aa",
   "metadata": {},
   "outputs": [
    {
     "data": {
      "text/plain": [
       "<AxesSubplot:>"
      ]
     },
     "execution_count": 14,
     "metadata": {},
     "output_type": "execute_result"
    },
    {
     "data": {
      "image/png": "[encoded data removed]",
      "text/plain": [
       "<Figure size 432x288 with 1 Axes>"
      ]
     },
     "metadata": {
      "needs_background": "light"
     },
     "output_type": "display_data"
    }
   ],
   "source": [
    "# view boxplots of variables\n",
    "zillow.drop(columns='fips').boxplot()"
   ]
  },
  {
   "cell_type": "markdown",
   "id": "a8389e95",
   "metadata": {},
   "source": [
    "Clearly I'll need to scale my data after handling outliers. `tax_value` has such an outlier problem that I can't even see any of the other boxplots if they're all plotted together."
   ]
  },
  {
   "cell_type": "code",
   "execution_count": 15,
   "id": "8a93aa45",
   "metadata": {},
   "outputs": [
    {
     "data": {
      "image/png": "[encoded data removed]",
      "text/plain": [
       "<Figure size 432x288 with 1 Axes>"
      ]
     },
     "metadata": {
      "needs_background": "light"
     },
     "output_type": "display_data"
    },
    {
     "data": {
      "image/png": "[encoded data removed]",
      "text/plain": [
       "<Figure size 432x288 with 1 Axes>"
      ]
     },
     "metadata": {
      "needs_background": "light"
     },
     "output_type": "display_data"
    },
    {
     "data": {
      "image/png": "[encoded data removed]",
      "text/plain": [
       "<Figure size 432x288 with 1 Axes>"
      ]
     },
     "metadata": {
      "needs_background": "light"
     },
     "output_type": "display_data"
    },
    {
     "data": {
      "image/png": "[encoded data removed]",
      "text/plain": [
       "<Figure size 432x288 with 1 Axes>"
      ]
     },
     "metadata": {
      "needs_background": "light"
     },
     "output_type": "display_data"
    }
   ],
   "source": [
    "# view individual boxplots for each variable\n",
    "for col in zillow.drop(columns='fips').columns:\n",
    "    sns.boxplot(data=zillow[col])\n",
    "    plt.title(col)\n",
    "    plt.show()"
   ]
  },
  {
   "cell_type": "markdown",
   "id": "dec3b406",
   "metadata": {},
   "source": [
    "**Takeaways:**\n",
    "\n",
    "- Data definitely needs to be scaled after outliers are handled\n",
    "- There are outliers in every column. \n",
    " - `fips` consists of 3 categorical values so I don't even need to worry about outliers here.\n",
    "- `tax_value` has the biggest outlier problem\n",
    "- `beds` and `baths` appear to have mostly normal distributions\n",
    "\n",
    "I will develop a function to remove outliers. The majority of our target market will most likely be interested in \"regular\" houses, or those properties whose attributes fall near the median values in this dataset. I don't believe including extravagant properties will be of much benefit to our model since most people aren't interested in those types of properties. If included, they could skew the data and confuse the model, resulting in less accurate predictions of tax assessed value. Therefore, I will remove outliers and focus on properties in the median range."
   ]
  },
  {
   "cell_type": "code",
   "execution_count": 16,
   "id": "c53e2b04",
   "metadata": {},
   "outputs": [],
   "source": [
    "# create function to remove outliers\n",
    "def remove_outliers(df, cols, k):\n",
    "    '''\n",
    "    This function takes in a list of column names from a dataframe and a \n",
    "    k-value (int) which is used to specify the upper and lower bounds for\n",
    "    removing outliers. It returns the dataframe with the outliers removed.\n",
    "    '''\n",
    "    # make for loop to remove outliers in each column\n",
    "    for col in cols:\n",
    "        # get quartiles\n",
    "        q1, q3 = df[col].quantile([.25, .75])\n",
    "        # compute iqr\n",
    "        iqr = q3 - q1\n",
    "        # get cutoff points for removing outliers\n",
    "        upper = q3 + k * iqr\n",
    "        lower = q1 - k * iqr\n",
    "        # remove outliers\n",
    "        df = df[(df[col]>lower)&(df[col]<upper)]\n",
    "    return df"
   ]
  },
  {
   "cell_type": "code",
   "execution_count": 17,
   "id": "5322be3c",
   "metadata": {},
   "outputs": [
    {
     "name": "stdout",
     "output_type": "stream",
     "text": [
      "<class 'pandas.core.frame.DataFrame'>\n",
      "Int64Index: 45626 entries, 0 to 52440\n",
      "Data columns (total 5 columns):\n",
      " #   Column     Non-Null Count  Dtype  \n",
      "---  ------     --------------  -----  \n",
      " 0   beds       45626 non-null  float64\n",
      " 1   baths      45626 non-null  float64\n",
      " 2   sq_ft      45626 non-null  float64\n",
      " 3   tax_value  45626 non-null  float64\n",
      " 4   fips       45626 non-null  float64\n",
      "dtypes: float64(5)\n",
      "memory usage: 2.1 MB\n"
     ]
    }
   ],
   "source": [
    "# remove outliers from all columns but fips, k=1.5\n",
    "no_outliers = remove_outliers(zillow, ['beds', 'baths', 'sq_ft', 'tax_value'], 1.5)\n",
    "# view info without outliers\n",
    "no_outliers.info()"
   ]
  },
  {
   "cell_type": "code",
   "execution_count": 18,
   "id": "90bbe24c",
   "metadata": {},
   "outputs": [
    {
     "name": "stdout",
     "output_type": "stream",
     "text": [
      "<class 'pandas.core.frame.DataFrame'>\n",
      "Int64Index: 52441 entries, 0 to 52440\n",
      "Data columns (total 5 columns):\n",
      " #   Column     Non-Null Count  Dtype  \n",
      "---  ------     --------------  -----  \n",
      " 0   beds       52441 non-null  float64\n",
      " 1   baths      52441 non-null  float64\n",
      " 2   sq_ft      52359 non-null  float64\n",
      " 3   tax_value  52440 non-null  float64\n",
      " 4   fips       52441 non-null  float64\n",
      "dtypes: float64(5)\n",
      "memory usage: 4.4 MB\n"
     ]
    }
   ],
   "source": [
    "# re-view info with outliers\n",
    "zillow.info()"
   ]
  },
  {
   "cell_type": "code",
   "execution_count": 19,
   "id": "89565942",
   "metadata": {},
   "outputs": [
    {
     "name": "stdout",
     "output_type": "stream",
     "text": [
      "Number of rows dropped: 6815\n",
      "Proportion of outliers in data: 13.00%\n",
      "Percentage of data retained after removing outliers: 87.00%\n"
     ]
    }
   ],
   "source": [
    "# calculate data lost/retained\n",
    "print(f'Number of rows dropped: {len(zillow) - len(no_outliers)}')\n",
    "print(f'Proportion of outliers in data: {(len(zillow)-len(no_outliers))/len(zillow):.2%}')\n",
    "print(f'Percentage of data retained after removing outliers: {len(no_outliers)/len(zillow):.2%}')"
   ]
  },
  {
   "cell_type": "markdown",
   "id": "aa89839f",
   "metadata": {},
   "source": [
    "Now that I know how much of my data is going to be dropped due to outliers, I will take another look at the individual variable distributions and the remaining null values after outlier removal."
   ]
  },
  {
   "cell_type": "code",
   "execution_count": 20,
   "id": "bbd38bf8",
   "metadata": {},
   "outputs": [
    {
     "data": {
      "image/png": "[encoded data removed]",
      "text/plain": [
       "<Figure size 432x288 with 6 Axes>"
      ]
     },
     "metadata": {
      "needs_background": "light"
     },
     "output_type": "display_data"
    }
   ],
   "source": [
    "no_outliers.hist()\n",
    "plt.tight_layout()"
   ]
  },
  {
   "cell_type": "code",
   "execution_count": 21,
   "id": "f3fc3d43",
   "metadata": {},
   "outputs": [
    {
     "data": {
      "image/png": "[encoded data removed]",
      "text/plain": [
       "<Figure size 432x288 with 1 Axes>"
      ]
     },
     "metadata": {
      "needs_background": "light"
     },
     "output_type": "display_data"
    },
    {
     "data": {
      "image/png": "[encoded data removed]",
      "text/plain": [
       "<Figure size 432x288 with 1 Axes>"
      ]
     },
     "metadata": {
      "needs_background": "light"
     },
     "output_type": "display_data"
    },
    {
     "data": {
      "image/png": "[encoded data removed]",
      "text/plain": [
       "<Figure size 432x288 with 1 Axes>"
      ]
     },
     "metadata": {
      "needs_background": "light"
     },
     "output_type": "display_data"
    },
    {
     "data": {
      "image/png": "[encoded data removed]",
      "text/plain": [
       "<Figure size 432x288 with 1 Axes>"
      ]
     },
     "metadata": {
      "needs_background": "light"
     },
     "output_type": "display_data"
    }
   ],
   "source": [
    "for col in no_outliers.drop(columns='fips').columns:\n",
    "    sns.boxplot(data=no_outliers[col])\n",
    "    plt.title(col)\n",
    "    plt.show()"
   ]
  },
  {
   "cell_type": "code",
   "execution_count": 22,
   "id": "9c220f70",
   "metadata": {},
   "outputs": [
    {
     "data": {
      "text/plain": [
       "beds         0\n",
       "baths        0\n",
       "sq_ft        0\n",
       "tax_value    0\n",
       "fips         0\n",
       "dtype: int64"
      ]
     },
     "execution_count": 22,
     "metadata": {},
     "output_type": "execute_result"
    }
   ],
   "source": [
    "# view total null values in each column\n",
    "no_outliers.isna().sum()"
   ]
  },
  {
   "cell_type": "markdown",
   "id": "110d109b",
   "metadata": {},
   "source": [
    "Great! Distributions look more normal and remaining outliers are more manageable. Also, there are no missing values to worry about after removing the outliers!\n",
    "\n",
    "Now I need to work on scaling the data. I will use the standard scaler because it will scale the values such that they are centered around a mean of 0. After splitting the data, I will fit the scaler object to train and transform it on train, validate, and test.\n",
    "\n",
    "***Note: I do wonder if I should encode the `fips` column. After my MVP I want to go back and see if that makes my model better.***\n",
    "\n",
    "Before I can do any scaling, I need to split the data into train, validate, and test samples. So that my data split can be reproduced, I am setting random_state=123 within the split function below."
   ]
  },
  {
   "cell_type": "code",
   "execution_count": 23,
   "id": "0d34f7fc",
   "metadata": {},
   "outputs": [],
   "source": [
    "# define split function\n",
    "def split_data(df):\n",
    "    '''\n",
    "    This function takes in a dataframe and splits it into three dataframes.\n",
    "    It returns these dataframes in this order: train, validate, test.\n",
    "    Train makes up 56% of the total observations, validate 24%, and test 20%.\n",
    "    '''\n",
    "    from sklearn.model_selection import train_test_split\n",
    "    train, test = train_test_split(df, test_size=0.2, random_state=123)\n",
    "    train, validate = train_test_split(train, test_size=0.3, random_state=123)\n",
    "    return train, validate, test\n"
   ]
  },
  {
   "cell_type": "code",
   "execution_count": 24,
   "id": "531aec00",
   "metadata": {},
   "outputs": [
    {
     "data": {
      "text/plain": [
       "((25550, 5), (10950, 5), (9126, 5))"
      ]
     },
     "execution_count": 24,
     "metadata": {},
     "output_type": "execute_result"
    }
   ],
   "source": [
    "# make sure split function works\n",
    "train, validate, test = split_data(no_outliers)\n",
    "train.shape, validate.shape, test.shape"
   ]
  },
  {
   "cell_type": "code",
   "execution_count": 25,
   "id": "27360df8",
   "metadata": {},
   "outputs": [
    {
     "name": "stderr",
     "output_type": "stream",
     "text": [
      "<ipython-input-25-2154892d0d89>:12: SettingWithCopyWarning: \n",
      "A value is trying to be set on a copy of a slice from a DataFrame.\n",
      "Try using .loc[row_indexer,col_indexer] = value instead\n",
      "\n",
      "See the caveats in the documentation: https://pandas.pydata.org/pandas-docs/stable/user_guide/indexing.html#returning-a-view-versus-a-copy\n",
      "  test[['beds_scaled', 'baths_scaled', 'sq_ft_scaled', 'tax_value_scaled']] = scaler.transform(test.drop(columns='fips'))\n",
      "/opt/homebrew/anaconda3/lib/python3.8/site-packages/pandas/core/indexing.py:1738: SettingWithCopyWarning: \n",
      "A value is trying to be set on a copy of a slice from a DataFrame.\n",
      "Try using .loc[row_indexer,col_indexer] = value instead\n",
      "\n",
      "See the caveats in the documentation: https://pandas.pydata.org/pandas-docs/stable/user_guide/indexing.html#returning-a-view-versus-a-copy\n",
      "  self._setitem_single_column(loc, value[:, i].tolist(), pi)\n"
     ]
    }
   ],
   "source": [
    "# import scaler\n",
    "from sklearn.preprocessing import StandardScaler\n",
    "# create scaler object\n",
    "scaler = StandardScaler()\n",
    "# fit scaler to train only\n",
    "scaler.fit(train.drop(columns='fips'))\n",
    "# create new columns of scaled data\n",
    "train[['beds_scaled', 'baths_scaled', 'sq_ft_scaled', 'tax_value_scaled']] = scaler.transform(train.drop(columns='fips'))\n",
    "train.head()\n",
    "# repeat for validate and test\n",
    "validate[['beds_scaled', 'baths_scaled', 'sq_ft_scaled', 'tax_value_scaled']] = scaler.transform(validate.drop(columns='fips'))\n",
    "test[['beds_scaled', 'baths_scaled', 'sq_ft_scaled', 'tax_value_scaled']] = scaler.transform(test.drop(columns='fips'))"
   ]
  },
  {
   "cell_type": "code",
   "execution_count": 26,
   "id": "28f02921",
   "metadata": {},
   "outputs": [
    {
     "data": {
      "image/png": "[encoded data removed]",
      "text/plain": [
       "<Figure size 936x432 with 2 Axes>"
      ]
     },
     "metadata": {
      "needs_background": "light"
     },
     "output_type": "display_data"
    }
   ],
   "source": [
    "plt.figure(figsize=(13, 6))\n",
    "\n",
    "# plot unscaled distribution\n",
    "plt.subplot(121)\n",
    "train.tax_value.plot.hist(title='Original')\n",
    "\n",
    "# plot scaled distribution\n",
    "plt.subplot(122)\n",
    "train.tax_value_scaled.plot.hist(title='Standard Scaled');"
   ]
  },
  {
   "cell_type": "code",
   "execution_count": 27,
   "id": "98722b6a",
   "metadata": {},
   "outputs": [],
   "source": [
    "def standard_scale_data(train, validate, test, cols):\n",
    "    '''\n",
    "    This function takes in train, validate, and test samples of the zillow data and \n",
    "    a list of columns to be scaled. It returns those dataframes with columns of \n",
    "    standard-scaled data added.\n",
    "    '''\n",
    "    from sklearn.preprocessing import StandardScaler\n",
    "    scaler = StandardScaler()\n",
    "    scaler.fit(train[scaled_cols])\n",
    "    train[[f'{col}_scaled' for col in scaled_cols]] = scaler.transform(train[scaled_cols])\n",
    "    validate[[f'{col}_scaled' for col in scaled_cols]] = scaler.transform(validate[scaled_cols])\n",
    "    test[[f'{col}_scaled' for col in scaled_cols]] = scaler.transform(test[scaled_cols])\n",
    "    return train, validate, test"
   ]
  },
  {
   "cell_type": "code",
   "execution_count": 28,
   "id": "7c220766",
   "metadata": {},
   "outputs": [
    {
     "data": {
      "text/html": [
       "<div>\n",
       "<style scoped>\n",
       "    .dataframe tbody tr th:only-of-type {\n",
       "        vertical-align: middle;\n",
       "    }\n",
       "\n",
       "    .dataframe tbody tr th {\n",
       "        vertical-align: top;\n",
       "    }\n",
       "\n",
       "    .dataframe thead th {\n",
       "        text-align: right;\n",
       "    }\n",
       "</style>\n",
       "<table border=\"1\" class=\"dataframe\">\n",
       "  <thead>\n",
       "    <tr style=\"text-align: right;\">\n",
       "      <th></th>\n",
       "      <th>beds</th>\n",
       "      <th>baths</th>\n",
       "      <th>sq_ft</th>\n",
       "      <th>tax_value</th>\n",
       "      <th>fips</th>\n",
       "      <th>beds_scaled</th>\n",
       "      <th>baths_scaled</th>\n",
       "      <th>sq_ft_scaled</th>\n",
       "    </tr>\n",
       "  </thead>\n",
       "  <tbody>\n",
       "    <tr>\n",
       "      <th>17227</th>\n",
       "      <td>2.0</td>\n",
       "      <td>1.0</td>\n",
       "      <td>877.0</td>\n",
       "      <td>148732.0</td>\n",
       "      <td>6037.0</td>\n",
       "      <td>-1.536937</td>\n",
       "      <td>-1.517808</td>\n",
       "      <td>-1.348418</td>\n",
       "    </tr>\n",
       "    <tr>\n",
       "      <th>36170</th>\n",
       "      <td>3.0</td>\n",
       "      <td>2.0</td>\n",
       "      <td>1386.0</td>\n",
       "      <td>319465.0</td>\n",
       "      <td>6059.0</td>\n",
       "      <td>-0.268813</td>\n",
       "      <td>-0.139870</td>\n",
       "      <td>-0.518473</td>\n",
       "    </tr>\n",
       "    <tr>\n",
       "      <th>16538</th>\n",
       "      <td>4.0</td>\n",
       "      <td>2.5</td>\n",
       "      <td>2064.0</td>\n",
       "      <td>810703.0</td>\n",
       "      <td>6059.0</td>\n",
       "      <td>0.999311</td>\n",
       "      <td>0.549099</td>\n",
       "      <td>0.587033</td>\n",
       "    </tr>\n",
       "    <tr>\n",
       "      <th>29765</th>\n",
       "      <td>3.0</td>\n",
       "      <td>2.0</td>\n",
       "      <td>1323.0</td>\n",
       "      <td>393000.0</td>\n",
       "      <td>6037.0</td>\n",
       "      <td>-0.268813</td>\n",
       "      <td>-0.139870</td>\n",
       "      <td>-0.621197</td>\n",
       "    </tr>\n",
       "    <tr>\n",
       "      <th>22836</th>\n",
       "      <td>4.0</td>\n",
       "      <td>3.0</td>\n",
       "      <td>2605.0</td>\n",
       "      <td>202872.0</td>\n",
       "      <td>6037.0</td>\n",
       "      <td>0.999311</td>\n",
       "      <td>1.238067</td>\n",
       "      <td>1.469155</td>\n",
       "    </tr>\n",
       "  </tbody>\n",
       "</table>\n",
       "</div>"
      ],
      "text/plain": [
       "       beds  baths   sq_ft  tax_value    fips  beds_scaled  baths_scaled  \\\n",
       "17227   2.0    1.0   877.0   148732.0  6037.0    -1.536937     -1.517808   \n",
       "36170   3.0    2.0  1386.0   319465.0  6059.0    -0.268813     -0.139870   \n",
       "16538   4.0    2.5  2064.0   810703.0  6059.0     0.999311      0.549099   \n",
       "29765   3.0    2.0  1323.0   393000.0  6037.0    -0.268813     -0.139870   \n",
       "22836   4.0    3.0  2605.0   202872.0  6037.0     0.999311      1.238067   \n",
       "\n",
       "       sq_ft_scaled  \n",
       "17227     -1.348418  \n",
       "36170     -0.518473  \n",
       "16538      0.587033  \n",
       "29765     -0.621197  \n",
       "22836      1.469155  "
      ]
     },
     "execution_count": 28,
     "metadata": {},
     "output_type": "execute_result"
    }
   ],
   "source": [
    "# test function\n",
    "train, validate, test = split_data(remove_outliers(acquire_zillow(), ['beds', 'baths', 'sq_ft', 'tax_value'], 1.5))\n",
    "\n",
    "scaled_cols = train.drop(columns=['fips', 'tax_value']).columns\n",
    "\n",
    "train, validate, test = standard_scale_data(train, validate, test, scaled_cols)\n",
    "train.head()\n"
   ]
  },
  {
   "cell_type": "code",
   "execution_count": 29,
   "id": "af89f2ec",
   "metadata": {},
   "outputs": [],
   "source": [
    "# combine all functions into one\n",
    "def wrangle_zillow(out_cols, k, scaled_cols):\n",
    "    '''\n",
    "    This function takes in a list of columns from which to remove outliers, a k-value \n",
    "    that determines cutoff points for outlier removal, and a list of columns to be scaled.\n",
    "    It returns three dataframes (train, validate, and test) derived from the zillow data \n",
    "    after outliers were removed and columns of scaled data were added.\n",
    "    '''\n",
    "    train, validate, test = split_data(remove_outliers(acquire_zillow(), out_cols, k))\n",
    "    train, validate, test = standard_scale_data(train, validate, test, scaled_cols)\n",
    "    return train, validate, test"
   ]
  },
  {
   "cell_type": "code",
   "execution_count": 30,
   "id": "cb8410e8",
   "metadata": {},
   "outputs": [
    {
     "data": {
      "text/html": [
       "<div>\n",
       "<style scoped>\n",
       "    .dataframe tbody tr th:only-of-type {\n",
       "        vertical-align: middle;\n",
       "    }\n",
       "\n",
       "    .dataframe tbody tr th {\n",
       "        vertical-align: top;\n",
       "    }\n",
       "\n",
       "    .dataframe thead th {\n",
       "        text-align: right;\n",
       "    }\n",
       "</style>\n",
       "<table border=\"1\" class=\"dataframe\">\n",
       "  <thead>\n",
       "    <tr style=\"text-align: right;\">\n",
       "      <th></th>\n",
       "      <th>beds</th>\n",
       "      <th>baths</th>\n",
       "      <th>sq_ft</th>\n",
       "      <th>tax_value</th>\n",
       "      <th>fips</th>\n",
       "      <th>beds_scaled</th>\n",
       "      <th>baths_scaled</th>\n",
       "      <th>sq_ft_scaled</th>\n",
       "    </tr>\n",
       "  </thead>\n",
       "  <tbody>\n",
       "    <tr>\n",
       "      <th>17227</th>\n",
       "      <td>2.0</td>\n",
       "      <td>1.0</td>\n",
       "      <td>877.0</td>\n",
       "      <td>148732.0</td>\n",
       "      <td>6037.0</td>\n",
       "      <td>-1.536937</td>\n",
       "      <td>-1.517808</td>\n",
       "      <td>-1.348418</td>\n",
       "    </tr>\n",
       "    <tr>\n",
       "      <th>36170</th>\n",
       "      <td>3.0</td>\n",
       "      <td>2.0</td>\n",
       "      <td>1386.0</td>\n",
       "      <td>319465.0</td>\n",
       "      <td>6059.0</td>\n",
       "      <td>-0.268813</td>\n",
       "      <td>-0.139870</td>\n",
       "      <td>-0.518473</td>\n",
       "    </tr>\n",
       "    <tr>\n",
       "      <th>16538</th>\n",
       "      <td>4.0</td>\n",
       "      <td>2.5</td>\n",
       "      <td>2064.0</td>\n",
       "      <td>810703.0</td>\n",
       "      <td>6059.0</td>\n",
       "      <td>0.999311</td>\n",
       "      <td>0.549099</td>\n",
       "      <td>0.587033</td>\n",
       "    </tr>\n",
       "    <tr>\n",
       "      <th>29765</th>\n",
       "      <td>3.0</td>\n",
       "      <td>2.0</td>\n",
       "      <td>1323.0</td>\n",
       "      <td>393000.0</td>\n",
       "      <td>6037.0</td>\n",
       "      <td>-0.268813</td>\n",
       "      <td>-0.139870</td>\n",
       "      <td>-0.621197</td>\n",
       "    </tr>\n",
       "    <tr>\n",
       "      <th>22836</th>\n",
       "      <td>4.0</td>\n",
       "      <td>3.0</td>\n",
       "      <td>2605.0</td>\n",
       "      <td>202872.0</td>\n",
       "      <td>6037.0</td>\n",
       "      <td>0.999311</td>\n",
       "      <td>1.238067</td>\n",
       "      <td>1.469155</td>\n",
       "    </tr>\n",
       "  </tbody>\n",
       "</table>\n",
       "</div>"
      ],
      "text/plain": [
       "       beds  baths   sq_ft  tax_value    fips  beds_scaled  baths_scaled  \\\n",
       "17227   2.0    1.0   877.0   148732.0  6037.0    -1.536937     -1.517808   \n",
       "36170   3.0    2.0  1386.0   319465.0  6059.0    -0.268813     -0.139870   \n",
       "16538   4.0    2.5  2064.0   810703.0  6059.0     0.999311      0.549099   \n",
       "29765   3.0    2.0  1323.0   393000.0  6037.0    -0.268813     -0.139870   \n",
       "22836   4.0    3.0  2605.0   202872.0  6037.0     0.999311      1.238067   \n",
       "\n",
       "       sq_ft_scaled  \n",
       "17227     -1.348418  \n",
       "36170     -0.518473  \n",
       "16538      0.587033  \n",
       "29765     -0.621197  \n",
       "22836      1.469155  "
      ]
     },
     "execution_count": 30,
     "metadata": {},
     "output_type": "execute_result"
    }
   ],
   "source": [
    "# test function\n",
    "out_cols = ['beds', 'baths', 'sq_ft', 'tax_value']\n",
    "scaled_cols = ['beds', 'baths', 'sq_ft']\n",
    "wrangle_zillow(out_cols, 1.5, scaled_cols)\n",
    "train.head()\n"
   ]
  },
  {
   "cell_type": "markdown",
   "id": "72c0acc9",
   "metadata": {},
   "source": [
    "Now that I have my data wrangled for my MVP, I will move onto Exploration and if I have time, I will come back to this stage to encode `fips` and also add in a column of the corresponding locations of `fips` values."
   ]
  }
 ],
 "metadata": {
  "kernelspec": {
   "display_name": "Python 3",
   "language": "python",
   "name": "python3"
  },
  "language_info": {
   "codemirror_mode": {
    "name": "ipython",
    "version": 3
   },
   "file_extension": ".py",
   "mimetype": "text/x-python",
   "name": "python",
   "nbconvert_exporter": "python",
   "pygments_lexer": "ipython3",
   "version": "3.8.8"
  }
 },
 "nbformat": 4,
 "nbformat_minor": 5
}
